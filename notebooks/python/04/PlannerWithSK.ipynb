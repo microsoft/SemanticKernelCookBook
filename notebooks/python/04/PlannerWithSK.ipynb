{
 "cells": [
  {
   "cell_type": "code",
   "execution_count": 1,
   "metadata": {},
   "outputs": [],
   "source": [
    "import os\n",
    "import sys\n",
    "\n",
    "import semantic_kernel as sk"
   ]
  },
  {
   "cell_type": "code",
   "execution_count": 2,
   "metadata": {},
   "outputs": [],
   "source": [
    "\n",
    "kernel = sk.Kernel()"
   ]
  },
  {
   "cell_type": "code",
   "execution_count": 3,
   "metadata": {},
   "outputs": [],
   "source": [
    "import semantic_kernel.connectors.ai.open_ai as skaoai"
   ]
  },
  {
   "cell_type": "code",
   "execution_count": 4,
   "metadata": {},
   "outputs": [
    {
     "data": {
      "text/plain": [
       "<semantic_kernel.kernel.Kernel at 0x121c00f10>"
      ]
     },
     "execution_count": 4,
     "metadata": {},
     "output_type": "execute_result"
    }
   ],
   "source": [
    "deployment, api_key, endpoint = sk.azure_openai_settings_from_dot_env()\n",
    "kernel.add_chat_service(\"azure_chat_completion_service\", skaoai.AzureChatCompletion(deployment,endpoint,api_key=api_key,api_version = \"2023-12-01-preview\"))"
   ]
  },
  {
   "cell_type": "code",
   "execution_count": 5,
   "metadata": {},
   "outputs": [],
   "source": [
    "from semantic_kernel.planning.basic_planner import BasicPlanner\n",
    "planner = BasicPlanner()"
   ]
  },
  {
   "cell_type": "code",
   "execution_count": 6,
   "metadata": {},
   "outputs": [],
   "source": [
    "base_skills_directory = '../../../plugins'"
   ]
  },
  {
   "cell_type": "code",
   "execution_count": 7,
   "metadata": {},
   "outputs": [],
   "source": [
    "custom_plugin = kernel.import_native_skill_from_directory(base_skills_directory , \"APIPlugin\")\n",
    "writer_plugin = kernel.import_semantic_skill_from_directory(base_skills_directory, \"WriterPlugin\")\n",
    "email_plugin = kernel.import_semantic_skill_from_directory(base_skills_directory, \"EmailPlugin\")\n",
    "translate_plugin = kernel.import_semantic_skill_from_directory(base_skills_directory, \"TranslatePlugin\")"
   ]
  },
  {
   "cell_type": "code",
   "execution_count": 8,
   "metadata": {},
   "outputs": [],
   "source": [
    "ask = \"\"\"\n",
    "Check the weather in Guangzhou and generate dressing tips based on the results into spanish and write them as travel weather reminder emails\n",
    "\"\"\"\n",
    "original_plan = await planner.create_plan_async(ask, kernel)"
   ]
  },
  {
   "cell_type": "code",
   "execution_count": 9,
   "metadata": {},
   "outputs": [
    {
     "name": "stdout",
     "output_type": "stream",
     "text": [
      "{\n",
      "    \"input\": \"Guangzhou\",\n",
      "    \"subtasks\": [\n",
      "        {\"function\": \"APIPlugin.WeatherFunction\", \"args\": {\"city\": \"Guangzhou\"}},\n",
      "        {\"function\": \"WriterPlugin.Tips\", \"args\": {\"input\": \"Weather in Guangzhou\", \"language\": \"Spanish\"}},\n",
      "        {\"function\": \"EmailPlugin.WeatherMail\", \"args\": {\"input\": \"Dressing tips based on weather in Guangzhou\"}},\n",
      "        {\"function\": \"TranslatePlugin.MultiLanguage\", \"args\": {\"input\": \"Dressing tips email\", \"language\": \"Spanish\"}}\n",
      "    ]\n",
      "}\n"
     ]
    }
   ],
   "source": [
    "print(original_plan.generated_plan)"
   ]
  },
  {
   "cell_type": "code",
   "execution_count": 10,
   "metadata": {},
   "outputs": [
    {
     "data": {
      "text/plain": [
       "'Correo electrónico con consejos de vestimenta'"
      ]
     },
     "execution_count": 10,
     "metadata": {},
     "output_type": "execute_result"
    }
   ],
   "source": [
    "await planner.execute_plan_async(original_plan, kernel)"
   ]
  }
 ],
 "metadata": {
  "kernelspec": {
   "display_name": "pydev",
   "language": "python",
   "name": "python3"
  },
  "language_info": {
   "codemirror_mode": {
    "name": "ipython",
    "version": 3
   },
   "file_extension": ".py",
   "mimetype": "text/x-python",
   "name": "python",
   "nbconvert_exporter": "python",
   "pygments_lexer": "ipython3",
   "version": "3.10.12"
  },
  "orig_nbformat": 4
 },
 "nbformat": 4,
 "nbformat_minor": 2
}
