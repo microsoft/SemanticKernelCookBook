{
 "cells": [
  {
   "cell_type": "code",
   "execution_count": 1,
   "metadata": {
    "dotnet_interactive": {
     "language": "csharp"
    },
    "polyglot_notebook": {
     "kernelName": "csharp"
    },
    "vscode": {
     "languageId": "polyglot-notebook"
    }
   },
   "outputs": [
    {
     "data": {
      "text/html": [
       "<div><div></div><div></div><div><strong>Installed Packages</strong><ul><li><span>Microsoft.SemanticKernel, 1.1.0</span></li><li><span>Microsoft.SemanticKernel.Planners.Handlebars, 1.1.0-preview</span></li></ul></div></div>"
      ]
     },
     "metadata": {},
     "output_type": "display_data"
    }
   ],
   "source": [
    "#r \"nuget: Microsoft.SemanticKernel, *-*\"\n",
    "#r \"nuget: Microsoft.SemanticKernel.Planners.Handlebars, *-*\""
   ]
  },
  {
   "cell_type": "code",
   "execution_count": 2,
   "metadata": {
    "dotnet_interactive": {
     "language": "csharp"
    },
    "polyglot_notebook": {
     "kernelName": "csharp"
    },
    "vscode": {
     "languageId": "polyglot-notebook"
    }
   },
   "outputs": [],
   "source": [
    "using Microsoft.SemanticKernel;\n",
    "using Microsoft.SemanticKernel.Memory;\n",
    "using Microsoft.SemanticKernel.Connectors.OpenAI;\n",
    "using Microsoft.SemanticKernel.Planning;\n"
   ]
  },
  {
   "cell_type": "code",
   "execution_count": 3,
   "metadata": {
    "dotnet_interactive": {
     "language": "csharp"
    },
    "polyglot_notebook": {
     "kernelName": "csharp"
    },
    "vscode": {
     "languageId": "polyglot-notebook"
    }
   },
   "outputs": [],
   "source": [
    "#!import ../Utils/Settings.cs\n",
    "#!import ../../../Plugins/CustomPlugin/CompanySearchPlugin.cs"
   ]
  },
  {
   "cell_type": "code",
   "execution_count": 4,
   "metadata": {
    "dotnet_interactive": {
     "language": "csharp"
    },
    "polyglot_notebook": {
     "kernelName": "csharp"
    },
    "vscode": {
     "languageId": "polyglot-notebook"
    }
   },
   "outputs": [],
   "source": [
    "using System;\n",
    "using System.Collections.Generic;\n",
    "using System.Diagnostics;\n",
    "using System.IO;\n",
    "using System.Net.Http;\n",
    "using System.Text.Json;\n",
    "using System.Threading.Tasks;"
   ]
  },
  {
   "cell_type": "code",
   "execution_count": 5,
   "metadata": {
    "dotnet_interactive": {
     "language": "csharp"
    },
    "polyglot_notebook": {
     "kernelName": "csharp"
    },
    "vscode": {
     "languageId": "polyglot-notebook"
    }
   },
   "outputs": [],
   "source": [
    "Kernel kernel = Kernel.CreateBuilder()\n",
    "            .AddAzureOpenAIChatCompletion(\"Your Azure OpenAI Service gpt-35-turbo-16k Deployment Name\", Settings.AOAIEndpoint, Settings.AOAIKey)\n",
    "            .Build();"
   ]
  },
  {
   "cell_type": "code",
   "execution_count": 6,
   "metadata": {
    "dotnet_interactive": {
     "language": "csharp"
    },
    "polyglot_notebook": {
     "kernelName": "csharp"
    },
    "vscode": {
     "languageId": "polyglot-notebook"
    }
   },
   "outputs": [],
   "source": [
    "var companySearchPluginObj = new CompanySearchPlugin();\n",
    "var companySearchPlugin = kernel.ImportPluginFromObject(companySearchPluginObj, \"CompanySearchPlugin\");"
   ]
  },
  {
   "cell_type": "code",
   "execution_count": 7,
   "metadata": {
    "dotnet_interactive": {
     "language": "csharp"
    },
    "polyglot_notebook": {
     "kernelName": "csharp"
    },
    "vscode": {
     "languageId": "polyglot-notebook"
    }
   },
   "outputs": [],
   "source": [
    "var pluginDirectory = Path.Combine(\"../../..\", \"plugins\");"
   ]
  },
  {
   "cell_type": "code",
   "execution_count": 8,
   "metadata": {
    "dotnet_interactive": {
     "language": "csharp"
    },
    "polyglot_notebook": {
     "kernelName": "csharp"
    },
    "vscode": {
     "languageId": "polyglot-notebook"
    }
   },
   "outputs": [],
   "source": [
    "var writerPlugin =  kernel.ImportPluginFromPromptDirectory(Path.Combine(pluginDirectory, \"WriterPlugin\"));\n",
    "var emailPlugin =  kernel.ImportPluginFromPromptDirectory(Path.Combine(pluginDirectory, \"EmailPlugin\"));\n",
    "var translatePlugin =  kernel.ImportPluginFromPromptDirectory(Path.Combine(pluginDirectory, \"TranslatePlugin\"));"
   ]
  },
  {
   "cell_type": "code",
   "execution_count": 9,
   "metadata": {
    "dotnet_interactive": {
     "language": "csharp"
    },
    "polyglot_notebook": {
     "kernelName": "csharp"
    },
    "vscode": {
     "languageId": "polyglot-notebook"
    }
   },
   "outputs": [],
   "source": [
    "string goal =  \"\"\"\n",
    "Check the weather in Guangzhou, use spanish to write emails about dressing tips based on the results\n",
    "\"\"\";"
   ]
  },
  {
   "cell_type": "code",
   "execution_count": 10,
   "metadata": {
    "dotnet_interactive": {
     "language": "csharp"
    },
    "polyglot_notebook": {
     "kernelName": "csharp"
    },
    "vscode": {
     "languageId": "polyglot-notebook"
    }
   },
   "outputs": [],
   "source": [
    "using Microsoft.SemanticKernel.Planning.Handlebars;\n",
    "\n",
    "#pragma warning disable SKEXP0060\n",
    "\n",
    "var planner = new HandlebarsPlanner();"
   ]
  },
  {
   "cell_type": "code",
   "execution_count": 11,
   "metadata": {
    "dotnet_interactive": {
     "language": "csharp"
    },
    "polyglot_notebook": {
     "kernelName": "csharp"
    },
    "vscode": {
     "languageId": "polyglot-notebook"
    }
   },
   "outputs": [],
   "source": [
    "#pragma warning disable SKEXP0060\n",
    "\n",
    "var originalPlan = await planner.CreatePlanAsync(kernel, goal);"
   ]
  },
  {
   "cell_type": "code",
   "execution_count": 12,
   "metadata": {
    "dotnet_interactive": {
     "language": "csharp"
    },
    "polyglot_notebook": {
     "kernelName": "csharp"
    },
    "vscode": {
     "languageId": "polyglot-notebook"
    }
   },
   "outputs": [
    {
     "name": "stdout",
     "output_type": "stream",
     "text": [
      "{{!-- Step 1: Identify key values --}}\n",
      "{{set \"city\" \"Guangzhou\"}}\n",
      "{{set \"language\" \"spanish\"}}\n",
      "\n",
      "{{!-- Step 2: Get weather information --}}\n",
      "{{set \"weatherResult\" (CompanySearchPlugin-WeatherSearch city=city)}}\n",
      "\n",
      "{{!-- Step 3: Get dressing tips --}}\n",
      "{{set \"dressingTips\" (WriterPlugin-Tips input=weatherResult language=language)}}\n",
      "\n",
      "{{!-- Step 4: Write an email --}}\n",
      "{{set \"emailContent\" (EmailPlugin-WeatherMail input=dressingTips)}}\n",
      "\n",
      "{{!-- Step 5: Output the final result --}}\n",
      "{{json emailContent}}\n"
     ]
    }
   ],
   "source": [
    "Console.WriteLine(originalPlan);"
   ]
  },
  {
   "cell_type": "code",
   "execution_count": 13,
   "metadata": {
    "dotnet_interactive": {
     "language": "csharp"
    },
    "polyglot_notebook": {
     "kernelName": "csharp"
    },
    "vscode": {
     "languageId": "polyglot-notebook"
    }
   },
   "outputs": [
    {
     "data": {
      "text/plain": [
       "{{!-- Step 1: Identify key values --}}\n",
       "{{set \"city\" \"Guangzhou\"}}\n",
       "{{set \"language\" \"spanish\"}}\n",
       "\n",
       "{{!-- Step 2: Get weather information --}}\n",
       "{{set \"weatherResult\" (CompanySearchPlugin-WeatherSearch city=city)}}\n",
       "\n",
       "{{!-- Step 3: Get dressing tips --}}\n",
       "{{set \"dressingTips\" (WriterPlugin-Tips input=weatherResult language=language)}}\n",
       "\n",
       "{{!-- Step 4: Write an email --}}\n",
       "{{set \"emailContent\" (EmailPlugin-WeatherMail input=dressingTips)}}\n",
       "\n",
       "{{!-- Step 5: Output the final result --}}\n",
       "{{json emailContent}}"
      ]
     },
     "metadata": {},
     "output_type": "display_data"
    }
   ],
   "source": [
    "originalPlan.ToString()"
   ]
  },
  {
   "cell_type": "code",
   "execution_count": 14,
   "metadata": {
    "dotnet_interactive": {
     "language": "csharp"
    },
    "polyglot_notebook": {
     "kernelName": "csharp"
    },
    "vscode": {
     "languageId": "polyglot-notebook"
    }
   },
   "outputs": [],
   "source": [
    "#pragma warning disable SKEXP0060\n",
    "var originalPlanResult = await originalPlan.InvokeAsync(kernel, new KernelArguments());"
   ]
  },
  {
   "cell_type": "code",
   "execution_count": 15,
   "metadata": {
    "dotnet_interactive": {
     "language": "csharp"
    },
    "polyglot_notebook": {
     "kernelName": "csharp"
    },
    "vscode": {
     "languageId": "polyglot-notebook"
    }
   },
   "outputs": [
    {
     "name": "stdout",
     "output_type": "stream",
     "text": [
      "Queridos compañeros de viaje,\n",
      "\n",
      "Espero que estén bien. Solo quería recordarles que debemos estar atentos a las condiciones de viaje en todo momento, especialmente en cuanto al clima. Según los consejos de vestimenta para Guangzhou, actualmente está a 2 grados y hay lluvia, por lo que debemos asegurarnos de tomar algunas precauciones.\n",
      "\n",
      "Es muy importante vestirse adecuadamente en este clima. Les sugiero seguir estas recomendaciones:\n",
      "\n",
      "1. Usar capas: Comiencen con un suéter cálido como base y agreguen una chaqueta impermeable encima para mantenerse abrigados y protegidos de la lluvia.\n",
      "\n",
      "2. Usar botas impermeables: Dado que está lloviendo, es fundamental usar calzado adecuado. Opten por unas botas impermeables que mantengan sus pies secos y protegidos del agua.\n",
      "\n",
      "3. Elegir pantalones o faldas largas: Para mantener las piernas calientes, opten por pantalones o faldas largas. Estas prendas proporcionarán una capa adicional de aislamiento contra el frío.\n",
      "\n",
      "4. No olvidar una bufanda y guantes: Asegúrense de llevar una bufanda y unos guantes para mantenerse abrigados y proteger las partes más sensibles de su cuerpo.\n",
      "\n",
      "5. Llevar un paraguas: Por último, recuerden llevar un paraguas resistente al agua. Esto les ayudará a protegerse de la lluvia mientras caminan por la ciudad.\n",
      "\n",
      "Pido que todos se mantengan al tanto de las condiciones de viaje y sigan estas recomendaciones para garantizar nuestro bienestar durante nuestro tiempo en Guangzhou.\n",
      "\n",
      "Gracias y ¡espero verlos pronto!\n",
      "\n",
      "Saludos,\n",
      "\n",
      "[Tu nombre]\n"
     ]
    }
   ],
   "source": [
    "Console.WriteLine(originalPlanResult);"
   ]
  }
 ],
 "metadata": {
  "kernelspec": {
   "display_name": "pydev",
   "language": "python",
   "name": "python3"
  },
  "language_info": {
   "codemirror_mode": {
    "name": "ipython",
    "version": 3
   },
   "file_extension": ".py",
   "mimetype": "text/x-python",
   "name": "python",
   "nbconvert_exporter": "python",
   "pygments_lexer": "ipython3",
   "version": "3.10.12"
  }
 },
 "nbformat": 4,
 "nbformat_minor": 2
}
