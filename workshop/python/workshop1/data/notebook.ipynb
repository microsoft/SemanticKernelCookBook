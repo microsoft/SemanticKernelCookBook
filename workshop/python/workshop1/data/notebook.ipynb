{
 "cells": [
  {
   "cell_type": "code",
   "execution_count": 1,
   "metadata": {},
   "outputs": [
    {
     "name": "stdout",
     "output_type": "stream",
     "text": [
      "Requirement already satisfied: semantic-kernel in /Users/lokinfey/conda/envs/pydev/lib/python3.10/site-packages (0.4.3.dev0)\n",
      "Requirement already satisfied: aiofiles<24.0.0,>=23.1.0 in /Users/lokinfey/conda/envs/pydev/lib/python3.10/site-packages (from semantic-kernel) (23.2.1)\n",
      "Requirement already satisfied: aiohttp<4.0,>=3.8 in /Users/lokinfey/conda/envs/pydev/lib/python3.10/site-packages (from semantic-kernel) (3.8.5)\n",
      "Requirement already satisfied: motor<4.0.0,>=3.3.1 in /Users/lokinfey/conda/envs/pydev/lib/python3.10/site-packages (from semantic-kernel) (3.3.2)\n",
      "Requirement already satisfied: numpy<2.0.0,>=1.24.2 in /Users/lokinfey/conda/envs/pydev/lib/python3.10/site-packages (from semantic-kernel) (1.26.0)\n",
      "Requirement already satisfied: openai>=1.0 in /Users/lokinfey/conda/envs/pydev/lib/python3.10/site-packages (from semantic-kernel) (1.3.6)\n",
      "Requirement already satisfied: openapi_core<0.19.0,>=0.18.0 in /Users/lokinfey/conda/envs/pydev/lib/python3.10/site-packages (from semantic-kernel) (0.18.2)\n",
      "Requirement already satisfied: prance<24.0.0.0,>=23.6.21.0 in /Users/lokinfey/conda/envs/pydev/lib/python3.10/site-packages (from semantic-kernel) (23.6.21.0)\n",
      "Requirement already satisfied: pydantic>2 in /Users/lokinfey/conda/envs/pydev/lib/python3.10/site-packages (from semantic-kernel) (2.5.2)\n",
      "Requirement already satisfied: python-dotenv==1.0.0 in /Users/lokinfey/conda/envs/pydev/lib/python3.10/site-packages (from semantic-kernel) (1.0.0)\n",
      "Requirement already satisfied: regex<2024.0.0,>=2023.6.3 in /Users/lokinfey/conda/envs/pydev/lib/python3.10/site-packages (from semantic-kernel) (2023.8.8)\n",
      "Requirement already satisfied: attrs>=17.3.0 in /Users/lokinfey/conda/envs/pydev/lib/python3.10/site-packages (from aiohttp<4.0,>=3.8->semantic-kernel) (23.1.0)\n",
      "Requirement already satisfied: charset-normalizer<4.0,>=2.0 in /Users/lokinfey/conda/envs/pydev/lib/python3.10/site-packages (from aiohttp<4.0,>=3.8->semantic-kernel) (3.2.0)\n",
      "Requirement already satisfied: multidict<7.0,>=4.5 in /Users/lokinfey/conda/envs/pydev/lib/python3.10/site-packages (from aiohttp<4.0,>=3.8->semantic-kernel) (6.0.4)\n",
      "Requirement already satisfied: async-timeout<5.0,>=4.0.0a3 in /Users/lokinfey/conda/envs/pydev/lib/python3.10/site-packages (from aiohttp<4.0,>=3.8->semantic-kernel) (4.0.3)\n",
      "Requirement already satisfied: yarl<2.0,>=1.0 in /Users/lokinfey/conda/envs/pydev/lib/python3.10/site-packages (from aiohttp<4.0,>=3.8->semantic-kernel) (1.9.2)\n",
      "Requirement already satisfied: frozenlist>=1.1.1 in /Users/lokinfey/conda/envs/pydev/lib/python3.10/site-packages (from aiohttp<4.0,>=3.8->semantic-kernel) (1.4.0)\n",
      "Requirement already satisfied: aiosignal>=1.1.2 in /Users/lokinfey/conda/envs/pydev/lib/python3.10/site-packages (from aiohttp<4.0,>=3.8->semantic-kernel) (1.3.1)\n",
      "Requirement already satisfied: pymongo<5,>=4.5 in /Users/lokinfey/conda/envs/pydev/lib/python3.10/site-packages (from motor<4.0.0,>=3.3.1->semantic-kernel) (4.6.0)\n",
      "Requirement already satisfied: anyio<4,>=3.5.0 in /Users/lokinfey/conda/envs/pydev/lib/python3.10/site-packages (from openai>=1.0->semantic-kernel) (3.7.1)\n",
      "Requirement already satisfied: distro<2,>=1.7.0 in /Users/lokinfey/conda/envs/pydev/lib/python3.10/site-packages (from openai>=1.0->semantic-kernel) (1.8.0)\n",
      "Requirement already satisfied: httpx<1,>=0.23.0 in /Users/lokinfey/conda/envs/pydev/lib/python3.10/site-packages (from openai>=1.0->semantic-kernel) (0.25.1)\n",
      "Requirement already satisfied: sniffio in /Users/lokinfey/conda/envs/pydev/lib/python3.10/site-packages (from openai>=1.0->semantic-kernel) (1.3.0)\n",
      "Requirement already satisfied: tqdm>4 in /Users/lokinfey/conda/envs/pydev/lib/python3.10/site-packages (from openai>=1.0->semantic-kernel) (4.66.1)\n",
      "Requirement already satisfied: typing-extensions<5,>=4.5 in /Users/lokinfey/conda/envs/pydev/lib/python3.10/site-packages (from openai>=1.0->semantic-kernel) (4.8.0)\n",
      "Requirement already satisfied: asgiref<4.0.0,>=3.6.0 in /Users/lokinfey/conda/envs/pydev/lib/python3.10/site-packages (from openapi_core<0.19.0,>=0.18.0->semantic-kernel) (3.7.2)\n",
      "Requirement already satisfied: isodate in /Users/lokinfey/conda/envs/pydev/lib/python3.10/site-packages (from openapi_core<0.19.0,>=0.18.0->semantic-kernel) (0.6.1)\n",
      "Requirement already satisfied: jsonschema<5.0.0,>=4.18.0 in /Users/lokinfey/conda/envs/pydev/lib/python3.10/site-packages (from openapi_core<0.19.0,>=0.18.0->semantic-kernel) (4.19.1)\n",
      "Requirement already satisfied: jsonschema-spec<0.3.0,>=0.2.3 in /Users/lokinfey/conda/envs/pydev/lib/python3.10/site-packages (from openapi_core<0.19.0,>=0.18.0->semantic-kernel) (0.2.4)\n",
      "Requirement already satisfied: more-itertools in /Users/lokinfey/conda/envs/pydev/lib/python3.10/site-packages (from openapi_core<0.19.0,>=0.18.0->semantic-kernel) (10.1.0)\n",
      "Requirement already satisfied: openapi-schema-validator<0.7.0,>=0.6.0 in /Users/lokinfey/conda/envs/pydev/lib/python3.10/site-packages (from openapi_core<0.19.0,>=0.18.0->semantic-kernel) (0.6.2)\n",
      "Requirement already satisfied: openapi-spec-validator<0.8.0,>=0.7.1 in /Users/lokinfey/conda/envs/pydev/lib/python3.10/site-packages (from openapi_core<0.19.0,>=0.18.0->semantic-kernel) (0.7.1)\n",
      "Requirement already satisfied: parse in /Users/lokinfey/conda/envs/pydev/lib/python3.10/site-packages (from openapi_core<0.19.0,>=0.18.0->semantic-kernel) (1.19.1)\n",
      "Requirement already satisfied: werkzeug in /Users/lokinfey/conda/envs/pydev/lib/python3.10/site-packages (from openapi_core<0.19.0,>=0.18.0->semantic-kernel) (2.3.7)\n",
      "Requirement already satisfied: chardet>=3.0 in /Users/lokinfey/conda/envs/pydev/lib/python3.10/site-packages (from prance<24.0.0.0,>=23.6.21.0->semantic-kernel) (5.2.0)\n",
      "Requirement already satisfied: ruamel.yaml>=0.17.10 in /Users/lokinfey/conda/envs/pydev/lib/python3.10/site-packages (from prance<24.0.0.0,>=23.6.21.0->semantic-kernel) (0.17.40)\n",
      "Requirement already satisfied: requests>=2.25 in /Users/lokinfey/conda/envs/pydev/lib/python3.10/site-packages (from prance<24.0.0.0,>=23.6.21.0->semantic-kernel) (2.31.0)\n",
      "Requirement already satisfied: six~=1.15 in /Users/lokinfey/conda/envs/pydev/lib/python3.10/site-packages (from prance<24.0.0.0,>=23.6.21.0->semantic-kernel) (1.16.0)\n",
      "Requirement already satisfied: packaging>=21.3 in /Users/lokinfey/conda/envs/pydev/lib/python3.10/site-packages (from prance<24.0.0.0,>=23.6.21.0->semantic-kernel) (23.1)\n",
      "Requirement already satisfied: annotated-types>=0.4.0 in /Users/lokinfey/conda/envs/pydev/lib/python3.10/site-packages (from pydantic>2->semantic-kernel) (0.6.0)\n",
      "Requirement already satisfied: pydantic-core==2.14.5 in /Users/lokinfey/conda/envs/pydev/lib/python3.10/site-packages (from pydantic>2->semantic-kernel) (2.14.5)\n",
      "Requirement already satisfied: idna>=2.8 in /Users/lokinfey/conda/envs/pydev/lib/python3.10/site-packages (from anyio<4,>=3.5.0->openai>=1.0->semantic-kernel) (3.4)\n",
      "Requirement already satisfied: exceptiongroup in /Users/lokinfey/conda/envs/pydev/lib/python3.10/site-packages (from anyio<4,>=3.5.0->openai>=1.0->semantic-kernel) (1.1.3)\n",
      "Requirement already satisfied: certifi in /Users/lokinfey/conda/envs/pydev/lib/python3.10/site-packages (from httpx<1,>=0.23.0->openai>=1.0->semantic-kernel) (2023.7.22)\n",
      "Requirement already satisfied: httpcore in /Users/lokinfey/conda/envs/pydev/lib/python3.10/site-packages (from httpx<1,>=0.23.0->openai>=1.0->semantic-kernel) (1.0.2)\n",
      "Requirement already satisfied: jsonschema-specifications>=2023.03.6 in /Users/lokinfey/conda/envs/pydev/lib/python3.10/site-packages (from jsonschema<5.0.0,>=4.18.0->openapi_core<0.19.0,>=0.18.0->semantic-kernel) (2023.7.1)\n",
      "Requirement already satisfied: referencing>=0.28.4 in /Users/lokinfey/conda/envs/pydev/lib/python3.10/site-packages (from jsonschema<5.0.0,>=4.18.0->openapi_core<0.19.0,>=0.18.0->semantic-kernel) (0.30.2)\n",
      "Requirement already satisfied: rpds-py>=0.7.1 in /Users/lokinfey/conda/envs/pydev/lib/python3.10/site-packages (from jsonschema<5.0.0,>=4.18.0->openapi_core<0.19.0,>=0.18.0->semantic-kernel) (0.10.3)\n",
      "Requirement already satisfied: PyYAML>=5.1 in /Users/lokinfey/conda/envs/pydev/lib/python3.10/site-packages (from jsonschema-spec<0.3.0,>=0.2.3->openapi_core<0.19.0,>=0.18.0->semantic-kernel) (6.0.1)\n",
      "Requirement already satisfied: pathable<0.5.0,>=0.4.1 in /Users/lokinfey/conda/envs/pydev/lib/python3.10/site-packages (from jsonschema-spec<0.3.0,>=0.2.3->openapi_core<0.19.0,>=0.18.0->semantic-kernel) (0.4.3)\n",
      "Requirement already satisfied: rfc3339-validator in /Users/lokinfey/conda/envs/pydev/lib/python3.10/site-packages (from openapi-schema-validator<0.7.0,>=0.6.0->openapi_core<0.19.0,>=0.18.0->semantic-kernel) (0.1.4)\n",
      "Requirement already satisfied: jsonschema-path<0.4.0,>=0.3.1 in /Users/lokinfey/conda/envs/pydev/lib/python3.10/site-packages (from openapi-spec-validator<0.8.0,>=0.7.1->openapi_core<0.19.0,>=0.18.0->semantic-kernel) (0.3.2)\n",
      "Requirement already satisfied: lazy-object-proxy<2.0.0,>=1.7.1 in /Users/lokinfey/conda/envs/pydev/lib/python3.10/site-packages (from openapi-spec-validator<0.8.0,>=0.7.1->openapi_core<0.19.0,>=0.18.0->semantic-kernel) (1.9.0)\n",
      "Requirement already satisfied: dnspython<3.0.0,>=1.16.0 in /Users/lokinfey/conda/envs/pydev/lib/python3.10/site-packages (from pymongo<5,>=4.5->motor<4.0.0,>=3.3.1->semantic-kernel) (2.4.2)\n",
      "Requirement already satisfied: urllib3<3,>=1.21.1 in /Users/lokinfey/conda/envs/pydev/lib/python3.10/site-packages (from requests>=2.25->prance<24.0.0.0,>=23.6.21.0->semantic-kernel) (1.26.18)\n",
      "Requirement already satisfied: ruamel.yaml.clib>=0.2.7 in /Users/lokinfey/conda/envs/pydev/lib/python3.10/site-packages (from ruamel.yaml>=0.17.10->prance<24.0.0.0,>=23.6.21.0->semantic-kernel) (0.2.8)\n",
      "Requirement already satisfied: MarkupSafe>=2.1.1 in /Users/lokinfey/conda/envs/pydev/lib/python3.10/site-packages (from werkzeug->openapi_core<0.19.0,>=0.18.0->semantic-kernel) (2.1.3)\n",
      "Requirement already satisfied: h11<0.15,>=0.13 in /Users/lokinfey/conda/envs/pydev/lib/python3.10/site-packages (from httpcore->httpx<1,>=0.23.0->openai>=1.0->semantic-kernel) (0.14.0)\n",
      "Requirement already satisfied: qdrant_client in /Users/lokinfey/conda/envs/pydev/lib/python3.10/site-packages (1.7.0)\n",
      "Requirement already satisfied: grpcio>=1.41.0 in /Users/lokinfey/conda/envs/pydev/lib/python3.10/site-packages (from qdrant_client) (1.59.3)\n",
      "Requirement already satisfied: grpcio-tools>=1.41.0 in /Users/lokinfey/conda/envs/pydev/lib/python3.10/site-packages (from qdrant_client) (1.59.3)\n",
      "Requirement already satisfied: httpx[http2]>=0.14.0 in /Users/lokinfey/conda/envs/pydev/lib/python3.10/site-packages (from qdrant_client) (0.25.1)\n",
      "Requirement already satisfied: numpy>=1.21 in /Users/lokinfey/conda/envs/pydev/lib/python3.10/site-packages (from qdrant_client) (1.26.0)\n",
      "Requirement already satisfied: portalocker<3.0.0,>=2.7.0 in /Users/lokinfey/conda/envs/pydev/lib/python3.10/site-packages (from qdrant_client) (2.8.2)\n",
      "Requirement already satisfied: pydantic>=1.10.8 in /Users/lokinfey/conda/envs/pydev/lib/python3.10/site-packages (from qdrant_client) (2.5.2)\n",
      "Requirement already satisfied: urllib3<2.0.0,>=1.26.14 in /Users/lokinfey/conda/envs/pydev/lib/python3.10/site-packages (from qdrant_client) (1.26.18)\n",
      "Requirement already satisfied: protobuf<5.0dev,>=4.21.6 in /Users/lokinfey/conda/envs/pydev/lib/python3.10/site-packages (from grpcio-tools>=1.41.0->qdrant_client) (4.24.3)\n",
      "Requirement already satisfied: setuptools in /Users/lokinfey/conda/envs/pydev/lib/python3.10/site-packages (from grpcio-tools>=1.41.0->qdrant_client) (68.2.2)\n",
      "Requirement already satisfied: anyio in /Users/lokinfey/conda/envs/pydev/lib/python3.10/site-packages (from httpx[http2]>=0.14.0->qdrant_client) (3.7.1)\n",
      "Requirement already satisfied: certifi in /Users/lokinfey/conda/envs/pydev/lib/python3.10/site-packages (from httpx[http2]>=0.14.0->qdrant_client) (2023.7.22)\n",
      "Requirement already satisfied: httpcore in /Users/lokinfey/conda/envs/pydev/lib/python3.10/site-packages (from httpx[http2]>=0.14.0->qdrant_client) (1.0.2)\n",
      "Requirement already satisfied: idna in /Users/lokinfey/conda/envs/pydev/lib/python3.10/site-packages (from httpx[http2]>=0.14.0->qdrant_client) (3.4)\n",
      "Requirement already satisfied: sniffio in /Users/lokinfey/conda/envs/pydev/lib/python3.10/site-packages (from httpx[http2]>=0.14.0->qdrant_client) (1.3.0)\n",
      "Requirement already satisfied: h2<5,>=3 in /Users/lokinfey/conda/envs/pydev/lib/python3.10/site-packages (from httpx[http2]>=0.14.0->qdrant_client) (4.1.0)\n",
      "Requirement already satisfied: annotated-types>=0.4.0 in /Users/lokinfey/conda/envs/pydev/lib/python3.10/site-packages (from pydantic>=1.10.8->qdrant_client) (0.6.0)\n",
      "Requirement already satisfied: pydantic-core==2.14.5 in /Users/lokinfey/conda/envs/pydev/lib/python3.10/site-packages (from pydantic>=1.10.8->qdrant_client) (2.14.5)\n",
      "Requirement already satisfied: typing-extensions>=4.6.1 in /Users/lokinfey/conda/envs/pydev/lib/python3.10/site-packages (from pydantic>=1.10.8->qdrant_client) (4.8.0)\n",
      "Requirement already satisfied: hyperframe<7,>=6.0 in /Users/lokinfey/conda/envs/pydev/lib/python3.10/site-packages (from h2<5,>=3->httpx[http2]>=0.14.0->qdrant_client) (6.0.1)\n",
      "Requirement already satisfied: hpack<5,>=4.0 in /Users/lokinfey/conda/envs/pydev/lib/python3.10/site-packages (from h2<5,>=3->httpx[http2]>=0.14.0->qdrant_client) (4.0.0)\n",
      "Requirement already satisfied: exceptiongroup in /Users/lokinfey/conda/envs/pydev/lib/python3.10/site-packages (from anyio->httpx[http2]>=0.14.0->qdrant_client) (1.1.3)\n",
      "Requirement already satisfied: h11<0.15,>=0.13 in /Users/lokinfey/conda/envs/pydev/lib/python3.10/site-packages (from httpcore->httpx[http2]>=0.14.0->qdrant_client) (0.14.0)\n"
     ]
    }
   ],
   "source": [
    "! pip install semantic-kernel -U\n",
    "! pip install qdrant_client -U"
   ]
  },
  {
   "cell_type": "code",
   "execution_count": 2,
   "metadata": {},
   "outputs": [],
   "source": [
    "import os\n",
    "import json"
   ]
  },
  {
   "cell_type": "code",
   "execution_count": 3,
   "metadata": {},
   "outputs": [],
   "source": [
    "import semantic_kernel as sk\n",
    "from dotenv import load_dotenv\n",
    "import semantic_kernel.connectors.ai.open_ai as skaoai"
   ]
  },
  {
   "cell_type": "code",
   "execution_count": 4,
   "metadata": {},
   "outputs": [],
   "source": [
    "kernel = sk.Kernel()\n",
    "deployment, api_key, endpoint = sk.azure_openai_settings_from_dot_env()"
   ]
  },
  {
   "cell_type": "code",
   "execution_count": 5,
   "metadata": {},
   "outputs": [
    {
     "data": {
      "text/plain": [
       "<semantic_kernel.kernel.Kernel at 0x10b9db520>"
      ]
     },
     "execution_count": 5,
     "metadata": {},
     "output_type": "execute_result"
    }
   ],
   "source": [
    "kernel.add_chat_service(\"azure_chat_completion_service\", skaoai.AzureChatCompletion(\"GPT3Model\",endpoint,api_key=api_key,api_version = \"2023-07-01-preview\"))\n",
    "\n",
    "\n",
    "kernel.add_text_embedding_generation_service(\n",
    "        \"embeddings_services\", skaoai.AzureTextEmbedding(\"EmbeddingModel\", endpoint,api_key=api_key,api_version = \"2023-07-01-preview\")\n",
    ")"
   ]
  },
  {
   "cell_type": "code",
   "execution_count": 6,
   "metadata": {},
   "outputs": [],
   "source": [
    "base_plugin = \"./plugins\""
   ]
  },
  {
   "cell_type": "code",
   "execution_count": 7,
   "metadata": {},
   "outputs": [],
   "source": [
    "files_plugin = kernel.import_semantic_skill_from_directory(base_plugin , \"FilePlugin\")"
   ]
  },
  {
   "cell_type": "code",
   "execution_count": 8,
   "metadata": {},
   "outputs": [],
   "source": [
    "nodes_files = os.listdir(\"./data/notes\")\n",
    "transcripts_files = os.listdir(\"./data/transcripts\")"
   ]
  },
  {
   "cell_type": "code",
   "execution_count": 9,
   "metadata": {},
   "outputs": [],
   "source": [
    "kblist = []"
   ]
  },
  {
   "cell_type": "code",
   "execution_count": 10,
   "metadata": {},
   "outputs": [],
   "source": [
    "for f in nodes_files:\n",
    "    file = open(\"./data/notes/\"+f, \"r\") \n",
    "    content = file.read()\n",
    "    notesFunc = files_plugin[\"Notes\"]\n",
    "    result = notesFunc(content)\n",
    "    json_result = json.loads(result.result)\n",
    "    kblist.append(json_result)\n",
    "    file.close()"
   ]
  },
  {
   "cell_type": "code",
   "execution_count": 11,
   "metadata": {},
   "outputs": [],
   "source": [
    "for f in transcripts_files:\n",
    "    file = open(\"./data/transcripts/\"+f, \"r\") \n",
    "    content = file.read()\n",
    "    transcriptsFunc = files_plugin[\"Transcripts\"]\n",
    "    result = transcriptsFunc(content)\n",
    "    json_result = json.loads(result.result)\n",
    "    for item in json_result:\n",
    "        kblist.append(item)\n",
    "    file.close()"
   ]
  },
  {
   "cell_type": "code",
   "execution_count": 12,
   "metadata": {},
   "outputs": [
    {
     "data": {
      "text/plain": [
       "[{'kb': 'History of machine learning',\n",
       "  'content': 'In this lesson, we will walk through the major milestones in the history of machine learning and artificial intelligence. The history of artificial intelligence (AI) as a field is intertwined with the history of machine learning, as the algorithms and computational advances that underpin ML fed into the development of AI. It is useful to remember that, while these fields as distinct areas of inquiry began to crystallize in the 1950s, important algorithmic, statistical, mathematical, computational and technical discoveries predated and overlapped this era. In fact, people have been thinking about these questions for hundreds of years: this article discusses the historical intellectual underpinnings of the idea of a \\'thinking machine.\\'\\n\\nNotable discoveries:\\n- 1763, 1812 Bayes Theorem and its predecessors. This theorem and its applications underlie inference, describing the probability of an event occurring based on prior knowledge.\\n- 1805 Least Square Theory by French mathematician Adrien-Marie Legendre. This theory, which you will learn about in our Regression unit, helps in data fitting.\\n- 1913 Markov Chains, named after Russian mathematician Andrey Markov, is used to describe a sequence of possible events based on a previous state.\\n- 1957 Perceptron is a type of linear classifier invented by American psychologist Frank Rosenblatt that underlies advances in deep learning.\\n- 1967 Nearest Neighbor is an algorithm originally designed to map routes. In an ML context it is used to detect patterns.\\n- 1970 Backpropagation is used to train feedforward neural networks.\\n- 1982 Recurrent Neural Networks are artificial neural networks derived from feedforward neural networks that create temporal graphs.\\n\\n1950: Machines that think\\nAlan Turing, a truly remarkable person who was voted by the public in 2019 as the greatest scientist of the 20th century, is credited as helping to lay the foundation for the concept of a \\'machine that can think.\\' He grappled with naysayers and his own need for empirical evidence of this concept in part by creating the Turing Test, which you will explore in our NLP lessons.\\n\\n1956: Dartmouth Summer Research Project\\n\"The Dartmouth Summer Research Project on artificial intelligence was a seminal event for artificial intelligence as a field,\" and it was here that the term \\'artificial intelligence\\' was coined.\\n\\n1956 - 1974: \"The golden years\"\\nFrom the 1950s through the mid \\'70s, optimism ran high in the hope that AI could solve many problems. In 1967, Marvin Minsky stated confidently that \"Within a generation ... the problem of creating \\'artificial intelligence\\' will substantially be solved.\" (Minsky, Marvin (1967), Computation: Finite and Infinite Machines, Englewood Cliffs, N.J.: Prentice-Hall)\\n\\n1974 - 1980: \"AI Winter\"\\nBy the mid 1970s, it had become apparent that the complexity of making \\'intelligent machines\\' had been understated and that its promise, given the available compute power, had been overblown. Funding dried up and confidence in the field slowed.\\n\\n1980s Expert systems\\nAs the field grew, its benefit to business became clearer, and in the 1980s so did the proliferation of \\'expert systems\\'. \"Expert systems were among the first truly successful forms of artificial intelligence (AI) software.\" This type of system is actually hybrid, consisting partially of a rules engine defining business requirements, and an inference engine that leveraged the rules system to deduce new facts.\\n\\n1987 - 1993: AI \\'Chill\\'\\nThe proliferation of specialized expert systems hardware had the unfortunate effect of becoming too specialized. The rise of personal computers also competed with these large, specialized, centralized systems. The democratization of computing had begun, and it eventually paved the way for the modern explosion of big data.\\n\\n1993 - 2011\\nThis epoch saw a new era for ML and AI to be able to solve some of the problems that had been caused earlier by the lack of data and compute power. The amount of data began to rapidly increase and become more widely available, for better and for worse, especially with the advent of the smartphone around 2007. Compute power expanded exponentially, and algorithms evolved alongside. The field began to gain maturity as the freewheeling days of the past began to crystallize into a true discipline.\\n\\nNow\\nToday machine learning and AI touch almost every part of our lives. This era calls for careful understanding of the risks and potentials effects of these algorithms on human lives. It remains to be seen what the future holds, but it is important to understand these computer systems and the software and algorithms that they run. We hope that this curriculum will help you to gain a better understanding so that you can decide for yourself.'},\n",
       " {'kb': 'Techniques of Machine Learning',\n",
       "  'content': \"On a high level, the craft of creating machine learning (ML) processes is comprised of a number of steps: Decide on the question, Collect and prepare data, Choose a training method, Train the model, Evaluate the model, Parameter tuning, Predict. Computers are particularly skilled at discovering hidden patterns in data. Before starting to build your model, there are several tasks you need to complete such as collecting and preparing data, selecting features and target, visualizing data, and splitting the dataset. Building a model involves deciding on a training method, training the model, and evaluating its performance. Parameter tuning can be done to improve the model. Finally, prediction is the process of using new data to test the model's accuracy.\"},\n",
       " {'kb': 'Introduction to machine learning',\n",
       "  'content': \"Welcome to this course on classical machine learning for beginners! Whether you're completely new to this topic, or an experienced ML practitioner looking to brush up on an area, we're happy to have you join us! We want to create a friendly launching spot for your ML study and would be happy to evaluate, respond to, and incorporate your feedback. Before starting with this curriculum, you need to have your computer set up and ready to run notebooks locally. Use the following links to learn how to install Python in your system and setup a text editor for development. It's also recommended to have a basic understanding of Python, a programming language useful for data scientists that we use in this course. We also use JavaScript a few times in this course when building web apps, so you will need to have node and npm installed, as well as Visual Studio Code available for both Python and JavaScript development. Since you found us here on GitHub, you might already have an account, but if not, create one and then fork this curriculum to use on your own. Familiarize yourself with Scikit-learn, a set of ML libraries that we reference in these lessons. The term 'machine learning' is one of the most popular and frequently used terms of today. There is a nontrivial possibility that you have heard this term at least once if you have some sort of familiarity with technology, no matter what domain you work in. The mechanics of machine learning, however, are a mystery to most people. For a machine learning beginner, the subject can sometimes feel overwhelming. Therefore, it is important to understand what machine learning actually is, and to learn about it step by step, through practical examples. We live in a universe full of fascinating mysteries. Great scientists such as Stephen Hawking, Albert Einstein, and many more have devoted their lives to searching for meaningful information that uncovers the mysteries of the world around us. This is the human condition of learning: a human child learns new things and uncovers the structure of their world year by year as they grow to adulthood. A child's brain and senses perceive the facts of their surroundings and gradually learn the hidden patterns of life which help the child to craft logical rules to identify learned patterns. The learning process of the human brain makes humans the most sophisticated living creature of this world. Learning continuously by discovering hidden patterns and then innovating on those patterns enables us to make ourselves better and better throughout our lifetime. This learning capacity and evolving capability is related to a concept called brain plasticity. Superficially, we can draw some motivational similarities between the learning process of the human brain and the concepts of machine learning. The human brain perceives things from the real world, processes the perceived information, makes rational decisions, and performs certain actions based on circumstances. This is what we called behaving intelligently. When we program a facsimile of the intelligent behavioral process to a machine, it is called artificial intelligence (AI). Although the terms can be confused, machine learning (ML) is an important subset of artificial intelligence. ML is concerned with using specialized algorithms to uncover meaningful information and find hidden patterns from perceived data to corroborate the rational decision-making process. In this curriculum, we are going to cover only the core concepts of machine learning that a beginner must know. We cover what we call 'classical machine learning' primarily using Scikit-learn, an excellent library many students use to learn the basics. To understand broader concepts of artificial intelligence or deep learning, a strong fundamental knowledge of machine learning is indispensable, and so we would like to offer it here. In this course you will learn: core concepts of machine learning, the history of ML, ML and fairness, regression ML techniques, classification ML techniques, clustering ML techniques, natural language processing ML techniques, time series forecasting ML techniques, reinforcement learning, real-world applications for ML. To make for a better learning experience, we will avoid the complexities of neural networks, 'deep learning' - many-layered model-building using neural networks - and AI, which we will discuss in a different curriculum. We also will offer a forthcoming data science curriculum to focus on that aspect of this larger field. Machine learning, from a systems perspective, is defined as the creation of automated systems that can learn hidden patterns from data to aid in making intelligent decisions. Applications of machine learning are now almost everywhere, and are as ubiquitous as the data that is flowing around our societies, generated by our smart phones, connected devices, and other systems. Considering the immense potential of state-of-the-art machine learning algorithms, researchers have been exploring their capability to solve multi-dimensional and multi-disciplinary real-life problems with great positive outcomes. You can use machine learning in many ways: To predict the likelihood of disease from a patient's medical history or reports, to leverage weather data to predict weather events, to understand the sentiment of a text, to detect fake news to stop the spread of propaganda. Finance, economics, earth science, space exploration, biomedical engineering, cognitive science, and even fields in the humanities have adapted machine learning to solve the arduous, data-processing heavy problems of their domain. Machine learning automates the process of pattern-discovery by finding meaningful insights from real-world or generated data. It has proven itself to be highly valuable in business, health, and financial applications, among others. In the near future, understanding the basics of machine learning is going to be a must for people from any domain due to its widespread adoption.\"},\n",
       " {'kb': 'Alan Turing and the Turing test',\n",
       "  'content': \"intelligence really begun in 1950s\\n\\nthough it's based on mathematical and\\n\\nstatistical developments over many\\n\\ncenturies Alan Turing is credited with\\n\\nhelping to lay the foundation for the\\n\\nconcept of a machine they can think\\n\\nin his quest to Define machine\\n\\nintelligence he achieved a crucial\\n\\nMilestone by creating the Turing test in\\n\\n1950. in this test an interrogator\\n\\nquestions both a human and a computer\\n\\nand tries to determine which one is\\n\\nwhich\\n\\nif the interrogator cannot tell the\\n\\ndifference then the computer can be\\n\\nconsidered intelligent in 1956 the term\"},\n",
       " {'kb': 'The Dartmouth Summer Research Project on AI',\n",
       "  'content': 'artificial intelligence was coined with\\n\\na small group of scientists gathered at\\n\\nDartmouth College in the U.S for an\\n\\nevent called the summer research project\\n\\non artificial intelligence\\n\\nthis conference was the birth of the\\n\\nfield of research we know as AI the\\n\\nyears from 1956 to 1974 are known as The'},\n",
       " {'kb': 'The golden years of AI',\n",
       "  'content': 'Golden Ears of AI optimism ran high in\\n\\nthe hope that AI could solve many\\n\\nproblems in 1967 Marvin Minsky the\\n\\nco-founder of the mitai lab stated\\n\\nconfidently and incorrectly that within\\n\\na generation the problem of creating\\n\\nartificial intelligence will\\n\\nsubstantially be solved\\n\\nnatural language processing research\\n\\nflourished search was refined and made\\n\\nmore powerful and the concept of micro\\n\\nworlds was created where simple tasks\\n\\nwere completed using plain language\\n\\ninstructions\\n\\nresearch was well funded by government\\n\\nagencies advances were made in\\n\\ncomputation and algorithms and\\n\\nprototypes of intelligent machines were\\n\\nbuilt\\n\\nsome of these machines include shaky the\\n\\nrobot who could maneuver and decide how\\n\\nto perform tasks intelligently Eliza and\\n\\ngnarly charabot that could converse with\\n\\npeople and act as a primitive therapist\\n\\nBlocksworld an example of a micro world\\n\\nwhere blogs get could be stacked and\\n\\nsorted and decision-making experiments\\n\\ncould be tested by the mid-1970s it had'},\n",
       " {'kb': 'The AI winter',\n",
       "  'content': 'become apparent that the complexity of\\n\\nmaking intelligent machines had been\\n\\nunderstated and that its promise had\\n\\nbeen overblown compute power was too\\n\\nlimited there was a lack of data to\\n\\ntrain and test AIS and there were\\n\\nquestions around the ethics of\\n\\nintroducing AI systems like the\\n\\ntherapist Eliza into society\\n\\nfunding dried up and confidence in the\\n\\nfield slowed marking the beginning of\\n\\nwhat is called an AI winter in the 1980s'},\n",
       " {'kb': 'Resurgence and fall of AI for expert systems',\n",
       "  'content': 'as computers became more powerful expert\\n\\nsystems became more successful there was\\n\\na Resurgence in optimism about AI as\\n\\nbusinesses found practical applications\\n\\nof these rule-based inference systems by\\n\\nthe late 80s it was becoming apparent\\n\\nthat expert systems had become too\\n\\nspecialized and were unlikely to achieve\\n\\nmachine intelligence the rise of\\n\\npersonal computers also competed with\\n\\nthese large specialized centralized\\n\\nsystems this led to another chill in the\\n\\nAI field things began to change in the\\n\\nmid-1990s as compute and storage\\n\\ncapabilities grew exponentially making\\n\\nit possible to process much larger data'},\n",
       " {'kb': 'Growth in AI driven by more data and more powerful hardware',\n",
       "  'content': 'sets than ever before\\n\\nthe rise of the internet and the\\n\\npopularity of smartphones both\\n\\ncontributed to increasing amounts of\\n\\ndata a new experiments in machine\\n\\nlearning became possible\\n\\nthroughout the 2000s significant\\n\\nadvancements were made in computer\\n\\nvision and natural language processing\\n\\nby training machine learning models on\\n\\nBig Data'},\n",
       " {'kb': 'Increased awareness of ethical and responsible AI',\n",
       "  'content': \"this era has also been marked by an\\n\\nincreased awareness of potential ethical\\n\\nissues in machine learning and by\\n\\nsignificant research in the field of\\n\\nresponsible AI\\n\\nwe want the benefits of AI but we also\\n\\nwant AI that is responsible and doesn't\\n\\namplify human bias\\n\\nin the next video we will introduce\\n\\ntechniques for building using and\\n\\nmaintaining machine learning models I'll\\n\\nsee you there\"},\n",
       " {'kb': 'Introducing ML for Beginners',\n",
       "  'content': \"hello and welcome to this course on classical machine learning for beginners whether you're completely new to the topic or an experienced ml practitioner looking to brush up on an area we're happy to have you join us this course is based on the free open source 26 lesson ml for beginners curriculum from Microsoft which can be found at AKA dot Ms slash ml-beginners machine learning is one of the most popular Technologies these days I'm sure you've heard this term if you have any sort of familiarity with technology no matter what domain you work in however the mechanics of machine learning are a mystery to most people and the subject can sometimes feel overwhelming in this course you'll start right from the beginning and you'll learn about it step by step to practical Hands-On coding examples let's\"},\n",
       " {'kb': 'The difference between AI and ML',\n",
       "  'content': \"start by talking about the difference between artificial intelligence and machine learning AI is a science of getting machines to accomplish tasks that typically require human level intelligence many different techniques have been proposed for AI but the most successful and popular approach these days is machine learning unlike other AI techniques ml uses specialized algorithms to make decisions by learning from data so machine learning is really a subset of artificial intelligence you've also probably heard of deep learning which is a subset of machine learning that relies on neural networks to learn from data in this course we're\"},\n",
       " {'kb': \"What you'll learn in this course\",\n",
       "  'content': \"going to cover what we call classical machine learning you'll learn some Core Concepts of ml a bit of History statistical techniques like regression classification clustering and more the concepts you'll learn here will serve you well as you progress to more\"},\n",
       " {'kb': 'Advanced Techniques',\n",
       "  'content': \"keep in mind that this course won't cover data science deep learning neural networks and AI techniques other than ml Microsoft offers two additional courses for you to learn more about these areas data science for beginners available at AKA dot Ms slash data science beginners and AI for beginners available at aka.ms Ai and beginners machine learning is a\"},\n",
       " {'kb': 'Why study Machine Learning',\n",
       "  'content': \"Hot Topic because it's solving complex real-world problems in so many areas Finance earth science space exploration cognitive science and many more Fields have adopted machine learning to solve problems specific to their domains for example you can use machine learning to predict the likelihood of disease from a patient's medical history to anticipate weather events to understand the sentiment of a text and to detect fake news and stop the spread of propaganda applications of machine learning are almost everywhere and are as ubiquitous as the data that is Flowing from our devices and systems because of how useful it is understanding the basics of machine learning is going to help you no matter what domain you're coming from in the next video in the series I'll give an overview of the history of ml I'll see you there\"},\n",
       " {'kb': 'Intro',\n",
       "  'content': \"the process of building machine learning models is very different from any other development workflow in this video you'll learn about that process more specifically you learn about deciding whether AI is the right approach for your problem collecting and preparing your data training your model evaluating your model tuning the hyper parameters and testing the trained model in the real world\"},\n",
       " {'kb': 'Decide if AI is the right approach',\n",
       "  'content': \"traditional software is well suited to solve problems where the solution can be described as a formal set of rules in contrast AI shines in solving problems where the solution can be extracted from data many of the problems we encountered in our daily life can be efficiently solved with traditional programming if an engineer can break up the solution of a problem and Define it using precise rules then traditional programming is a great tool to use but many of the problems we encounter in our day-to-day aren't quite as easy to Define as a set of rules thankfully for many of those problems we have access to plenty of real life data containing useful information which means that AI can help us find a solution one good example is translating from one language to another writing a set of rules that full encodes all the parallels between two languages is not easy but there are many examples of translation online so AI has been able to do a much better job of translation than previous attempts so our first step when we're starting a new project should be to analyze the problem and determine which technique is best to solve it if you're able to obtain plenty of data that contains useful information about your solution then AI is a promising approach once you decided that\"},\n",
       " {'kb': 'Collect and prepare data',\n",
       "  'content': \"AI is the right method for you you need to collect and prepare your data for example you may need to normalize it or convert it to a different form or remove rows that are missing certain Fields once your data is clean you need to decide about which aspects of your data or features you're going to use as input to your prediction and which feature you want to predict for example if you have medical data you may decide to use features that describe the patient's medical history as input and a chance of a particular disease as the output feature you want to predict and finally you need to split your data into training and test sets a usual split is 80 for your training data and 20 for test\"},\n",
       " {'kb': 'Train your model',\n",
       "  'content': \"next you need to choose a machine learning algorithm which you'll learn a lot about in the coming videos if you're undecided between a few good algorithms you may want to try them all and see which one performs best then you need to train your model using the training set you collected earlier and the algorithm you chose training a model may take a while especially if the model is large\"},\n",
       " {'kb': 'Evaluate your model',\n",
       "  'content': \"once the model is trained you can test it using the test data set that you split earlier it's important that you test the algorithm with data that it hasn't seen during training to ensure that it generalizes well to new scenarios\"},\n",
       " {'kb': 'Tune the hyperparameters',\n",
       "  'content': \"some algorithms contain hyper parameters which are settings that control key aspects of their inner workings choosing good hyper parameters is important because they can make a big difference in your results if you want to be systematic about your hyper parameter search you can write code that tries lots of different combinations and helps you discover the best values for your data once you get good test results it's time to see how well your model performs within the context of its intended use for example this could involve collecting live data from a sensor and using it to make predictions or deploying a model to a few users of your application if it all looks good then you're ready to release it to production and enjoy its benefits\"},\n",
       " {'kb': 'Test the model in the real world',\n",
       "  'content': \"make sure you watch the next video where we'll start getting Hands-On with machine learning by configuring all the tools we'll use in the rest of the series I'll see you there\"}]"
      ]
     },
     "execution_count": 12,
     "metadata": {},
     "output_type": "execute_result"
    }
   ],
   "source": [
    "kblist"
   ]
  },
  {
   "cell_type": "code",
   "execution_count": 13,
   "metadata": {},
   "outputs": [],
   "source": [
    "base_vectordb = 'aboutMLKBDemoDemo'"
   ]
  },
  {
   "cell_type": "code",
   "execution_count": 14,
   "metadata": {},
   "outputs": [],
   "source": [
    "\n",
    "from semantic_kernel.connectors.memory.qdrant import QdrantMemoryStore"
   ]
  },
  {
   "cell_type": "code",
   "execution_count": 15,
   "metadata": {},
   "outputs": [],
   "source": [
    "qdrant_store = QdrantMemoryStore(vector_size=1536, url=\"http://localhost\",port=6333)\n",
    "await qdrant_store.create_collection_async(base_vectordb)"
   ]
  },
  {
   "cell_type": "code",
   "execution_count": 16,
   "metadata": {},
   "outputs": [],
   "source": [
    "kernel.register_memory_store(memory_store=qdrant_store)"
   ]
  },
  {
   "cell_type": "code",
   "execution_count": 17,
   "metadata": {},
   "outputs": [],
   "source": [
    "import uuid"
   ]
  },
  {
   "cell_type": "code",
   "execution_count": 18,
   "metadata": {},
   "outputs": [
    {
     "data": {
      "text/plain": [
       "UUID('778692a2-56a8-4c37-b19a-74104b23fd41')"
      ]
     },
     "execution_count": 18,
     "metadata": {},
     "output_type": "execute_result"
    }
   ],
   "source": [
    "uuid.uuid4()"
   ]
  },
  {
   "cell_type": "code",
   "execution_count": 19,
   "metadata": {},
   "outputs": [],
   "source": [
    "for item in kblist:\n",
    "    content = item[\"kb\"] + ' - ' + item[\"content\"]\n",
    "    id =str(uuid.uuid4())\n",
    "    await kernel.memory.save_information_async(base_vectordb, id=id, text=content)"
   ]
  },
  {
   "cell_type": "code",
   "execution_count": 20,
   "metadata": {},
   "outputs": [],
   "source": [
    "ask = \"can you tell me what is different ML and AI\"\n",
    "\n",
    "memories = await kernel.memory.search_async(\n",
    "    base_vectordb, ask, limit=1, min_relevance_score=0.8\n",
    ")"
   ]
  },
  {
   "cell_type": "code",
   "execution_count": 21,
   "metadata": {},
   "outputs": [
    {
     "name": "stdout",
     "output_type": "stream",
     "text": [
      "Top Result: The difference between AI and ML - start by talking about the difference between artificial intelligence and machine learning AI is a science of getting machines to accomplish tasks that typically require human level intelligence many different techniques have been proposed for AI but the most successful and popular approach these days is machine learning unlike other AI techniques ml uses specialized algorithms to make decisions by learning from data so machine learning is really a subset of artificial intelligence you've also probably heard of deep learning which is a subset of machine learning that relies on neural networks to learn from data in this course we're with score 0.8928732\n"
     ]
    }
   ],
   "source": [
    "result = ''\n",
    "for memory in memories:\n",
    "    print(f\"Top Result: {memory.text} with score {memory.relevance}\")\n",
    "    result = memory.text"
   ]
  },
  {
   "cell_type": "code",
   "execution_count": 22,
   "metadata": {},
   "outputs": [],
   "source": [
    "answer_plugin = kernel.import_semantic_skill_from_directory(base_plugin , \"AnswerPlugin\")"
   ]
  },
  {
   "cell_type": "code",
   "execution_count": 23,
   "metadata": {},
   "outputs": [],
   "source": [
    "answerFunc = answer_plugin[\"Summary\"]"
   ]
  },
  {
   "cell_type": "code",
   "execution_count": 24,
   "metadata": {},
   "outputs": [
    {
     "data": {
      "text/plain": [
       "\"The difference between AI and ML - start by talking about the difference between artificial intelligence and machine learning AI is a science of getting machines to accomplish tasks that typically require human level intelligence many different techniques have been proposed for AI but the most successful and popular approach these days is machine learning unlike other AI techniques ml uses specialized algorithms to make decisions by learning from data so machine learning is really a subset of artificial intelligence you've also probably heard of deep learning which is a subset of machine learning that relies on neural networks to learn from data in this course we're\""
      ]
     },
     "execution_count": 24,
     "metadata": {},
     "output_type": "execute_result"
    }
   ],
   "source": [
    "result"
   ]
  }
 ],
 "metadata": {
  "kernelspec": {
   "display_name": "pydev",
   "language": "python",
   "name": "python3"
  },
  "language_info": {
   "codemirror_mode": {
    "name": "ipython",
    "version": 3
   },
   "file_extension": ".py",
   "mimetype": "text/x-python",
   "name": "python",
   "nbconvert_exporter": "python",
   "pygments_lexer": "ipython3",
   "version": "3.10.12"
  }
 },
 "nbformat": 4,
 "nbformat_minor": 2
}
