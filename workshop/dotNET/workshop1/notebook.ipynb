{
 "cells": [
  {
   "cell_type": "code",
   "execution_count": 1,
   "metadata": {
    "dotnet_interactive": {
     "language": "csharp"
    },
    "polyglot_notebook": {
     "kernelName": "csharp"
    },
    "vscode": {
     "languageId": "polyglot-notebook"
    }
   },
   "outputs": [
    {
     "data": {
      "text/html": [
       "<div><div></div><div></div><div><strong>Installed Packages</strong><ul><li><span>Microsoft.SemanticKernel, 1.0.1</span></li><li><span>Microsoft.SemanticKernel.Connectors.Qdrant, 1.0.1-alpha</span></li></ul></div></div>"
      ]
     },
     "metadata": {},
     "output_type": "display_data"
    }
   ],
   "source": [
    "#r \"nuget: Microsoft.SemanticKernel, *-*\"\n",
    "#r \"nuget: Microsoft.SemanticKernel.Connectors.Qdrant, *-*\""
   ]
  },
  {
   "cell_type": "code",
   "execution_count": 2,
   "metadata": {
    "dotnet_interactive": {
     "language": "csharp"
    },
    "polyglot_notebook": {
     "kernelName": "csharp"
    },
    "vscode": {
     "languageId": "polyglot-notebook"
    }
   },
   "outputs": [],
   "source": [
    "using Microsoft.SemanticKernel;\n",
    "using Microsoft.SemanticKernel.Embeddings;\n",
    "using Microsoft.SemanticKernel.Memory;\n",
    "using Microsoft.SemanticKernel.Connectors.Qdrant;\n",
    "using Microsoft.SemanticKernel.Connectors.OpenAI;"
   ]
  },
  {
   "cell_type": "code",
   "execution_count": 3,
   "metadata": {
    "dotnet_interactive": {
     "language": "csharp"
    },
    "polyglot_notebook": {
     "kernelName": "csharp"
    },
    "vscode": {
     "languageId": "polyglot-notebook"
    }
   },
   "outputs": [],
   "source": [
    "using System;\n",
    "using System.IO;\n",
    "using System.Text.Json;"
   ]
  },
  {
   "cell_type": "code",
   "execution_count": 4,
   "metadata": {
    "dotnet_interactive": {
     "language": "csharp"
    },
    "polyglot_notebook": {
     "kernelName": "csharp"
    },
    "vscode": {
     "languageId": "polyglot-notebook"
    }
   },
   "outputs": [],
   "source": [
    "Kernel kernel = Kernel.CreateBuilder()\n",
    "            .AddAzureOpenAIChatCompletion(\"Your Azure OpenAI Service Deployment Name\" , \"Your Azure OpenAI Service Endpoint\", \"Your Azure OpenAI Service API Key\")\n",
    "            .Build();"
   ]
  },
  {
   "cell_type": "code",
   "execution_count": 5,
   "metadata": {
    "dotnet_interactive": {
     "language": "csharp"
    },
    "polyglot_notebook": {
     "kernelName": "csharp"
    },
    "vscode": {
     "languageId": "polyglot-notebook"
    }
   },
   "outputs": [],
   "source": [
    "var pluginDirectory =  System.IO.Directory.GetCurrentDirectory() + \"/Plugins\";"
   ]
  },
  {
   "cell_type": "code",
   "execution_count": 6,
   "metadata": {
    "dotnet_interactive": {
     "language": "csharp"
    },
    "polyglot_notebook": {
     "kernelName": "csharp"
    },
    "vscode": {
     "languageId": "polyglot-notebook"
    }
   },
   "outputs": [],
   "source": [
    "var filePlugin = kernel.CreatePluginFromPromptDirectory(Path.Combine(pluginDirectory, \"FilePlugin\"));\n",
    "var answerPlugin = kernel.CreatePluginFromPromptDirectory(Path.Combine(pluginDirectory, \"AnswerPlugin\"));"
   ]
  },
  {
   "cell_type": "code",
   "execution_count": 7,
   "metadata": {
    "dotnet_interactive": {
     "language": "csharp"
    },
    "polyglot_notebook": {
     "kernelName": "csharp"
    },
    "vscode": {
     "languageId": "polyglot-notebook"
    }
   },
   "outputs": [],
   "source": [
    "public class KB\n",
    "{\n",
    "    public string kb { get; set; }\n",
    "    public string content { get; set; }\n",
    "}"
   ]
  },
  {
   "cell_type": "code",
   "execution_count": 8,
   "metadata": {
    "dotnet_interactive": {
     "language": "csharp"
    },
    "polyglot_notebook": {
     "kernelName": "csharp"
    },
    "vscode": {
     "languageId": "polyglot-notebook"
    }
   },
   "outputs": [],
   "source": [
    "DirectoryInfo transcriptsFolder = new DirectoryInfo(@\"./data/transcripts\");    \n",
    "FileInfo[] transcriptsFiles = transcriptsFolder.GetFiles();"
   ]
  },
  {
   "cell_type": "code",
   "execution_count": 9,
   "metadata": {
    "dotnet_interactive": {
     "language": "csharp"
    },
    "polyglot_notebook": {
     "kernelName": "csharp"
    },
    "vscode": {
     "languageId": "polyglot-notebook"
    }
   },
   "outputs": [],
   "source": [
    "IList<KB> kbList = new List<KB>();\n",
    "\n",
    "foreach(var file in transcriptsFiles)\n",
    "{\n",
    "    string content = File.ReadAllText(file.FullName);\n",
    "    var jsonResult = await kernel.InvokeAsync( filePlugin[\"Transcripts\"],new(){[\"input\"] = content});\n",
    "    var result = JsonSerializer.Deserialize<List<KB>>(jsonResult.ToString());\n",
    "    foreach(var item in result)\n",
    "    {\n",
    "        kbList.Add(item);\n",
    "    }\n",
    "}"
   ]
  },
  {
   "cell_type": "code",
   "execution_count": 10,
   "metadata": {
    "dotnet_interactive": {
     "language": "csharp"
    },
    "polyglot_notebook": {
     "kernelName": "csharp"
    },
    "vscode": {
     "languageId": "polyglot-notebook"
    }
   },
   "outputs": [
    {
     "data": {
      "text/html": [
       "<table><thead><tr><th><i>index</i></th><th>value</th></tr></thead><tbody><tr><td>0</td><td><details class=\"dni-treeview\"><summary><span class=\"dni-code-hint\"><code>Submission#7+KB</code></span></summary><div><table><thead><tr></tr></thead><tbody><tr><td>kb</td><td><div class=\"dni-plaintext\"><pre>Alan Turing and the Turing test</pre></div></td></tr><tr><td>content</td><td><div class=\"dni-plaintext\"><pre>The modern world of artificial intelligence really begun in 1950s though it&#39;s based on mathematical and statistical developments over many centuries Alan Turing is credited with helping to lay the foundation for the concept of a machine they can think. In his quest to Define machine intelligence he achieved a crucial Milestone by creating the Turing test in 1950. in this test an interrogator questions both a human and a computer and tries to determine which one is which. If the interrogator cannot tell the difference then the computer can be considered intelligent.</pre></div></td></tr></tbody></table></div></details></td></tr><tr><td>1</td><td><details class=\"dni-treeview\"><summary><span class=\"dni-code-hint\"><code>Submission#7+KB</code></span></summary><div><table><thead><tr></tr></thead><tbody><tr><td>kb</td><td><div class=\"dni-plaintext\"><pre>The Dartmouth Summer Research Project on AI</pre></div></td></tr><tr><td>content</td><td><div class=\"dni-plaintext\"><pre>In 1956 the term artificial intelligence was coined with a small group of scientists gathered at Dartmouth College in the U.S for an event called the summer research project on artificial intelligence. This conference was the birth of the field of research we know as AI.</pre></div></td></tr></tbody></table></div></details></td></tr><tr><td>2</td><td><details class=\"dni-treeview\"><summary><span class=\"dni-code-hint\"><code>Submission#7+KB</code></span></summary><div><table><thead><tr></tr></thead><tbody><tr><td>kb</td><td><div class=\"dni-plaintext\"><pre>The golden years of AI</pre></div></td></tr><tr><td>content</td><td><div class=\"dni-plaintext\"><pre>The years from 1956 to 1974 are known as The Golden Ears of AI optimism ran high in the hope that AI could solve many problems. In 1967 Marvin Minsky the co-founder of the mitai lab stated confidently and incorrectly that within a generation the problem of creating artificial intelligence will substantially be solved. Natural language processing research flourished search was refined and made more powerful and the concept of micro worlds was created where simple tasks were completed using plain language instructions. Research was well funded by government agencies advances were made in computation and algorithms and prototypes of intelligent machines were built. Some of these machines include shaky the robot who could maneuver and decide how to perform tasks intelligently Eliza and gnarly charabot that could converse with people and act as a primitive therapist Blocksworld an example of a micro world where blogs get could be stacked and sorted and decision-making experiments could be tested. By the mid-1970s it had become apparent that the complexity of making intelligent machines had been understated and that its promise had been overblown compute power was too limited there was a lack of data to train and test AIS and there were questions around the ethics of introducing AI systems like the therapist Eliza into society funding dried up and confidence in the field slowed marking the beginning of what is called an AI winter.</pre></div></td></tr></tbody></table></div></details></td></tr><tr><td>3</td><td><details class=\"dni-treeview\"><summary><span class=\"dni-code-hint\"><code>Submission#7+KB</code></span></summary><div><table><thead><tr></tr></thead><tbody><tr><td>kb</td><td><div class=\"dni-plaintext\"><pre>The AI winter</pre></div></td></tr><tr><td>content</td><td><div class=\"dni-plaintext\"><pre>In the 1980s as computers became more powerful expert systems became more successful there was a Resurgence in optimism about AI as businesses found practical applications of these rule-based inference systems. By the late 80s it was becoming apparent that expert systems had become too specialized and were unlikely to achieve machine intelligence. The rise of personal computers also competed with these large specialized centralized systems. This led to another chill in the AI field.</pre></div></td></tr></tbody></table></div></details></td></tr><tr><td>4</td><td><details class=\"dni-treeview\"><summary><span class=\"dni-code-hint\"><code>Submission#7+KB</code></span></summary><div><table><thead><tr></tr></thead><tbody><tr><td>kb</td><td><div class=\"dni-plaintext\"><pre>Resurgence and fall of AI for expert systems</pre></div></td></tr><tr><td>content</td><td><div class=\"dni-plaintext\"><pre>Things began to change in the mid-1990s as compute and storage capabilities grew exponentially making it possible to process much larger data sets than ever before. The rise of the internet and the popularity of smartphones both contributed to increasing amounts of data and new experiments in machine learning became possible. Throughout the 2000s significant advancements were made in computer vision and natural language processing by training machine learning models on Big Data.</pre></div></td></tr></tbody></table></div></details></td></tr><tr><td>5</td><td><details class=\"dni-treeview\"><summary><span class=\"dni-code-hint\"><code>Submission#7+KB</code></span></summary><div><table><thead><tr></tr></thead><tbody><tr><td>kb</td><td><div class=\"dni-plaintext\"><pre>Growth in AI driven by more data and more powerful hardware</pre></div></td></tr><tr><td>content</td><td><div class=\"dni-plaintext\"><pre>In the past decade compute power and the size of data sets have continued to grow and machine learning has become capable of solving even more problems. As a result today machine learning touches almost every part of our Lives sometimes we&#39;re well aware of it like when we interact with chat TPT in the browser or see a self-driving car go by but most of the time it&#39;s seamlessly woven into familiar experiences of our everyday life such as when we&#39;re approved for a new loan or get a catalog at home.</pre></div></td></tr></tbody></table></div></details></td></tr><tr><td>6</td><td><details class=\"dni-treeview\"><summary><span class=\"dni-code-hint\"><code>Submission#7+KB</code></span></summary><div><table><thead><tr></tr></thead><tbody><tr><td>kb</td><td><div class=\"dni-plaintext\"><pre>Increased awareness of ethical and responsible AI</pre></div></td></tr><tr><td>content</td><td><div class=\"dni-plaintext\"><pre>This era has also been marked by an increased awareness of potential ethical issues in machine learning and by significant research in the field of responsible AI. We want the benefits of AI but we also want AI that is responsible and doesn&#39;t amplify human bias. In the next video, we will introduce techniques for building using and maintaining machine learning models.</pre></div></td></tr></tbody></table></div></details></td></tr><tr><td>7</td><td><details class=\"dni-treeview\"><summary><span class=\"dni-code-hint\"><code>Submission#7+KB</code></span></summary><div><table><thead><tr></tr></thead><tbody><tr><td>kb</td><td><div class=\"dni-plaintext\"><pre>Introducing ML for Beginners</pre></div></td></tr><tr><td>content</td><td><div class=\"dni-plaintext\"><pre>hello and welcome to this course on\n",
       "\n",
       "classical machine learning for beginners\n",
       "\n",
       "whether you&#39;re completely new to the\n",
       "topic or an experienced ml practitioner\n",
       "\n",
       "looking to brush up on an area we&#39;re\n",
       "\n",
       "happy to have you join us this course is\n",
       "\n",
       "based on the free open source 26 lesson\n",
       "\n",
       "ml for beginners curriculum from\n",
       "\n",
       "Microsoft which can be found at AKA dot\n",
       "\n",
       "Ms slash ml-beginners machine learning\n",
       "\n",
       "is one of the most popular Technologies\n",
       "\n",
       "these days I&#39;m sure you&#39;ve heard this\n",
       "\n",
       "term if you have any sort of familiarity\n",
       "\n",
       "with technology no matter what domain\n",
       "\n",
       "you work in however the mechanics of\n",
       "\n",
       "machine learning are a mystery to most\n",
       "\n",
       "people and the subject can sometimes\n",
       "\n",
       "feel overwhelming in this course you&#39;ll\n",
       "\n",
       "start right from the beginning and\n",
       "\n",
       "you&#39;ll learn about it step by step to\n",
       "\n",
       "practical Hands-On coding examples</pre></div></td></tr></tbody></table></div></details></td></tr><tr><td>8</td><td><details class=\"dni-treeview\"><summary><span class=\"dni-code-hint\"><code>Submission#7+KB</code></span></summary><div><table><thead><tr></tr></thead><tbody><tr><td>kb</td><td><div class=\"dni-plaintext\"><pre>The difference between AI and ML</pre></div></td></tr><tr><td>content</td><td><div class=\"dni-plaintext\"><pre>start by talking about the difference\n",
       "\n",
       "between artificial intelligence and\n",
       "\n",
       "machine learning AI is a science of\n",
       "\n",
       "getting machines to accomplish tasks\n",
       "\n",
       "that typically require human level\n",
       "\n",
       "intelligence many different techniques\n",
       "\n",
       "have been proposed for AI but the most\n",
       "\n",
       "successful and popular approach these\n",
       "\n",
       "days is machine learning\n",
       "\n",
       "unlike other AI techniques ml uses\n",
       "\n",
       "specialized algorithms to make decisions\n",
       "\n",
       "by learning from data so machine\n",
       "\n",
       "learning is really a subset of\n",
       "\n",
       "artificial intelligence\n",
       "\n",
       "you&#39;ve also probably heard of deep\n",
       "\n",
       "learning which is a subset of machine\n",
       "\n",
       "learning that relies on neural networks\n",
       "\n",
       "to learn from data in this course we&#39;re</pre></div></td></tr></tbody></table></div></details></td></tr><tr><td>9</td><td><details class=\"dni-treeview\"><summary><span class=\"dni-code-hint\"><code>Submission#7+KB</code></span></summary><div><table><thead><tr></tr></thead><tbody><tr><td>kb</td><td><div class=\"dni-plaintext\"><pre>What you&#39;ll learn in this course</pre></div></td></tr><tr><td>content</td><td><div class=\"dni-plaintext\"><pre>going to cover what we call classical\n",
       "\n",
       "machine learning you&#39;ll learn some Core\n",
       "\n",
       "Concepts of ml a bit of History\n",
       "\n",
       "statistical techniques like regression\n",
       "\n",
       "classification clustering and more\n",
       "\n",
       "the concepts you&#39;ll learn here will\n",
       "\n",
       "serve you well as you progress to more\n",
       "\n",
       "Advanced Techniques</pre></div></td></tr></tbody></table></div></details></td></tr><tr><td>10</td><td><details class=\"dni-treeview\"><summary><span class=\"dni-code-hint\"><code>Submission#7+KB</code></span></summary><div><table><thead><tr></tr></thead><tbody><tr><td>kb</td><td><div class=\"dni-plaintext\"><pre>What you won&#39;t learn in this course</pre></div></td></tr><tr><td>content</td><td><div class=\"dni-plaintext\"><pre>keep in mind that this course won&#39;t\n",
       "\n",
       "cover data science deep learning neural\n",
       "\n",
       "networks and AI techniques other than ml\n",
       "\n",
       "Microsoft offers two additional courses\n",
       "\n",
       "for you to learn more about these areas\n",
       "\n",
       "data science for beginners available at\n",
       "\n",
       "AKA dot Ms slash data science beginners\n",
       "\n",
       "and AI for beginners available at aka.ms\n",
       "\n",
       "Ai and beginners machine learning is a</pre></div></td></tr></tbody></table></div></details></td></tr><tr><td>11</td><td><details class=\"dni-treeview\"><summary><span class=\"dni-code-hint\"><code>Submission#7+KB</code></span></summary><div><table><thead><tr></tr></thead><tbody><tr><td>kb</td><td><div class=\"dni-plaintext\"><pre>Why study Machine Learning</pre></div></td></tr><tr><td>content</td><td><div class=\"dni-plaintext\"><pre>Hot Topic because it&#39;s solving complex\n",
       "\n",
       "real-world problems in so many areas\n",
       "\n",
       "Finance earth science space exploration\n",
       "\n",
       "cognitive science and many more Fields\n",
       "\n",
       "have adopted machine learning to solve\n",
       "\n",
       "problems specific to their domains for\n",
       "\n",
       "example you can use machine learning to\n",
       "\n",
       "predict the likelihood of disease from a\n",
       "\n",
       "patient&#39;s medical history\n",
       "to anticipate weather events to\n",
       "\n",
       "understand the sentiment of a text and\n",
       "to detect fake news and stop the spread\n",
       "\n",
       "of propaganda applications of machine\n",
       "\n",
       "learning are almost everywhere and are\n",
       "\n",
       "as ubiquitous as the data that is\n",
       "\n",
       "Flowing from our devices and systems\n",
       "\n",
       "because of how useful it is\n",
       "\n",
       "understanding the basics of machine\n",
       "\n",
       "learning is going to help you no matter\n",
       "\n",
       "what domain you&#39;re coming from in the\n",
       "\n",
       "next video in the series I&#39;ll give an\n",
       "\n",
       "overview of the history of ml I&#39;ll see\n",
       "\n",
       "you there</pre></div></td></tr></tbody></table></div></details></td></tr><tr><td>12</td><td><details class=\"dni-treeview\"><summary><span class=\"dni-code-hint\"><code>Submission#7+KB</code></span></summary><div><table><thead><tr></tr></thead><tbody><tr><td>kb</td><td><div class=\"dni-plaintext\"><pre>Decide if AI is the right approach</pre></div></td></tr><tr><td>content</td><td><div class=\"dni-plaintext\"><pre>traditional software is well suited to solve problems where the solution can be described as a formal set of rules in contrast AI shines in solving problems where the solution can be extracted from data many of the problems we encountered in our daily life can be efficiently solved with traditional programming if an engineer can break up the solution of a problem and Define it using precise rules then traditional programming is a great tool to use but many of the problems we encounter in our day-to-day aren&#39;t quite as easy to Define as a set of rules thankfully for many of those problems we have access to plenty of real life data containing useful information which means that AI can help us find a solution one good example is translating from one language to another writing a set of rules that fully encodes all the parallels between two languages is not easy but there are many examples of translation online so AI has been able to do a much better job of translation than previous attempts so our first step when we&#39;re starting a new project should be to analyze the problem and determine which technique is best to solve it if you&#39;re able to obtain plenty of data that contains useful information about your solution then AI is a promising approach once you decided that</pre></div></td></tr></tbody></table></div></details></td></tr><tr><td>13</td><td><details class=\"dni-treeview\"><summary><span class=\"dni-code-hint\"><code>Submission#7+KB</code></span></summary><div><table><thead><tr></tr></thead><tbody><tr><td>kb</td><td><div class=\"dni-plaintext\"><pre>Collect and prepare data</pre></div></td></tr><tr><td>content</td><td><div class=\"dni-plaintext\"><pre>AI is the right method for you you need to collect and prepare your data for example you may need to normalize it or convert it to a different form or remove rows that are missing certain Fields once your data is clean you need to decide about which aspects of your data or features you&#39;re going to use as input to your prediction and which feature you want to predict for example if you have medical data you may decide to use features that describe the patient&#39;s medical history as input and a chance of a particular disease as the output feature you want to predict and finally you need to split your data into training and test sets a usual split is 80 for your training data and 20 for test</pre></div></td></tr></tbody></table></div></details></td></tr><tr><td>14</td><td><details class=\"dni-treeview\"><summary><span class=\"dni-code-hint\"><code>Submission#7+KB</code></span></summary><div><table><thead><tr></tr></thead><tbody><tr><td>kb</td><td><div class=\"dni-plaintext\"><pre>Train your model</pre></div></td></tr><tr><td>content</td><td><div class=\"dni-plaintext\"><pre>next you need to choose a machine learning algorithm which you&#39;ll learn a lot about in the coming videos if you&#39;re undecided between a few good algorithms you may want to try them all and see which one performs best then you need to train your model using the training set you collected earlier and the algorithm you chose training a model may take a while especially if the model is large</pre></div></td></tr></tbody></table></div></details></td></tr><tr><td>15</td><td><details class=\"dni-treeview\"><summary><span class=\"dni-code-hint\"><code>Submission#7+KB</code></span></summary><div><table><thead><tr></tr></thead><tbody><tr><td>kb</td><td><div class=\"dni-plaintext\"><pre>Evaluate your model</pre></div></td></tr><tr><td>content</td><td><div class=\"dni-plaintext\"><pre>once the model is trained you can test it using the test data set that you split earlier it&#39;s important that you test the algorithm with data that it hasn&#39;t seen during training to ensure that it generalizes well to new scenarios</pre></div></td></tr></tbody></table></div></details></td></tr><tr><td>16</td><td><details class=\"dni-treeview\"><summary><span class=\"dni-code-hint\"><code>Submission#7+KB</code></span></summary><div><table><thead><tr></tr></thead><tbody><tr><td>kb</td><td><div class=\"dni-plaintext\"><pre>Tune the hyperparameters</pre></div></td></tr><tr><td>content</td><td><div class=\"dni-plaintext\"><pre>some algorithms contain hyperparameters which are settings that control key aspects of their inner workings choosing good hyperparameters is important because they can make a big difference in your results if you want to be systematic about your hyperparameter search you can write code that tries lots of different combinations and helps you discover the best values for your data once you get good test results it&#39;s time to see how well your model performs within the context of its intended use for example this could involve collecting live data from a sensor and using it to make predictions or deploying a model to a few users of your application if it all looks good then you&#39;re ready to release it to production and enjoy its benefits</pre></div></td></tr></tbody></table></div></details></td></tr></tbody></table><style>\r\n",
       ".dni-code-hint {\r\n",
       "    font-style: italic;\r\n",
       "    overflow: hidden;\r\n",
       "    white-space: nowrap;\r\n",
       "}\r\n",
       ".dni-treeview {\r\n",
       "    white-space: nowrap;\r\n",
       "}\r\n",
       ".dni-treeview td {\r\n",
       "    vertical-align: top;\r\n",
       "    text-align: start;\r\n",
       "}\r\n",
       "details.dni-treeview {\r\n",
       "    padding-left: 1em;\r\n",
       "}\r\n",
       "table td {\r\n",
       "    text-align: start;\r\n",
       "}\r\n",
       "table tr { \r\n",
       "    vertical-align: top; \r\n",
       "    margin: 0em 0px;\r\n",
       "}\r\n",
       "table tr td pre \r\n",
       "{ \r\n",
       "    vertical-align: top !important; \r\n",
       "    margin: 0em 0px !important;\r\n",
       "} \r\n",
       "table th {\r\n",
       "    text-align: start;\r\n",
       "}\r\n",
       "</style>"
      ]
     },
     "metadata": {},
     "output_type": "display_data"
    }
   ],
   "source": [
    "kbList"
   ]
  },
  {
   "cell_type": "code",
   "execution_count": 11,
   "metadata": {
    "dotnet_interactive": {
     "language": "csharp"
    },
    "polyglot_notebook": {
     "kernelName": "csharp"
    },
    "vscode": {
     "languageId": "polyglot-notebook"
    }
   },
   "outputs": [],
   "source": [
    "DirectoryInfo notesFolder = new DirectoryInfo(@\"./data/notes\");    \n",
    "FileInfo[] notesFiles = notesFolder.GetFiles();"
   ]
  },
  {
   "cell_type": "code",
   "execution_count": 12,
   "metadata": {
    "dotnet_interactive": {
     "language": "csharp"
    },
    "polyglot_notebook": {
     "kernelName": "csharp"
    },
    "vscode": {
     "languageId": "polyglot-notebook"
    }
   },
   "outputs": [],
   "source": [
    "foreach(var file in notesFiles)\n",
    "{\n",
    "    string content = File.ReadAllText(file.FullName);\n",
    "    var jsonResult = await kernel.InvokeAsync( filePlugin[\"Notes\"],new(){[\"input\"] = content});\n",
    "    var result = JsonSerializer.Deserialize<KB>(jsonResult.ToString());\n",
    "    kbList.Add(result);\n",
    "}"
   ]
  },
  {
   "cell_type": "code",
   "execution_count": 13,
   "metadata": {
    "dotnet_interactive": {
     "language": "csharp"
    },
    "polyglot_notebook": {
     "kernelName": "csharp"
    },
    "vscode": {
     "languageId": "polyglot-notebook"
    }
   },
   "outputs": [
    {
     "data": {
      "text/html": [
       "<table><thead><tr><th><i>index</i></th><th>value</th></tr></thead><tbody><tr><td>0</td><td><details class=\"dni-treeview\"><summary><span class=\"dni-code-hint\"><code>Submission#7+KB</code></span></summary><div><table><thead><tr></tr></thead><tbody><tr><td>kb</td><td><div class=\"dni-plaintext\"><pre>Alan Turing and the Turing test</pre></div></td></tr><tr><td>content</td><td><div class=\"dni-plaintext\"><pre>The modern world of artificial intelligence really begun in 1950s though it&#39;s based on mathematical and statistical developments over many centuries Alan Turing is credited with helping to lay the foundation for the concept of a machine they can think. In his quest to Define machine intelligence he achieved a crucial Milestone by creating the Turing test in 1950. in this test an interrogator questions both a human and a computer and tries to determine which one is which. If the interrogator cannot tell the difference then the computer can be considered intelligent.</pre></div></td></tr></tbody></table></div></details></td></tr><tr><td>1</td><td><details class=\"dni-treeview\"><summary><span class=\"dni-code-hint\"><code>Submission#7+KB</code></span></summary><div><table><thead><tr></tr></thead><tbody><tr><td>kb</td><td><div class=\"dni-plaintext\"><pre>The Dartmouth Summer Research Project on AI</pre></div></td></tr><tr><td>content</td><td><div class=\"dni-plaintext\"><pre>In 1956 the term artificial intelligence was coined with a small group of scientists gathered at Dartmouth College in the U.S for an event called the summer research project on artificial intelligence. This conference was the birth of the field of research we know as AI.</pre></div></td></tr></tbody></table></div></details></td></tr><tr><td>2</td><td><details class=\"dni-treeview\"><summary><span class=\"dni-code-hint\"><code>Submission#7+KB</code></span></summary><div><table><thead><tr></tr></thead><tbody><tr><td>kb</td><td><div class=\"dni-plaintext\"><pre>The golden years of AI</pre></div></td></tr><tr><td>content</td><td><div class=\"dni-plaintext\"><pre>The years from 1956 to 1974 are known as The Golden Ears of AI optimism ran high in the hope that AI could solve many problems. In 1967 Marvin Minsky the co-founder of the mitai lab stated confidently and incorrectly that within a generation the problem of creating artificial intelligence will substantially be solved. Natural language processing research flourished search was refined and made more powerful and the concept of micro worlds was created where simple tasks were completed using plain language instructions. Research was well funded by government agencies advances were made in computation and algorithms and prototypes of intelligent machines were built. Some of these machines include shaky the robot who could maneuver and decide how to perform tasks intelligently Eliza and gnarly charabot that could converse with people and act as a primitive therapist Blocksworld an example of a micro world where blogs get could be stacked and sorted and decision-making experiments could be tested. By the mid-1970s it had become apparent that the complexity of making intelligent machines had been understated and that its promise had been overblown compute power was too limited there was a lack of data to train and test AIS and there were questions around the ethics of introducing AI systems like the therapist Eliza into society funding dried up and confidence in the field slowed marking the beginning of what is called an AI winter.</pre></div></td></tr></tbody></table></div></details></td></tr><tr><td>3</td><td><details class=\"dni-treeview\"><summary><span class=\"dni-code-hint\"><code>Submission#7+KB</code></span></summary><div><table><thead><tr></tr></thead><tbody><tr><td>kb</td><td><div class=\"dni-plaintext\"><pre>The AI winter</pre></div></td></tr><tr><td>content</td><td><div class=\"dni-plaintext\"><pre>In the 1980s as computers became more powerful expert systems became more successful there was a Resurgence in optimism about AI as businesses found practical applications of these rule-based inference systems. By the late 80s it was becoming apparent that expert systems had become too specialized and were unlikely to achieve machine intelligence. The rise of personal computers also competed with these large specialized centralized systems. This led to another chill in the AI field.</pre></div></td></tr></tbody></table></div></details></td></tr><tr><td>4</td><td><details class=\"dni-treeview\"><summary><span class=\"dni-code-hint\"><code>Submission#7+KB</code></span></summary><div><table><thead><tr></tr></thead><tbody><tr><td>kb</td><td><div class=\"dni-plaintext\"><pre>Resurgence and fall of AI for expert systems</pre></div></td></tr><tr><td>content</td><td><div class=\"dni-plaintext\"><pre>Things began to change in the mid-1990s as compute and storage capabilities grew exponentially making it possible to process much larger data sets than ever before. The rise of the internet and the popularity of smartphones both contributed to increasing amounts of data and new experiments in machine learning became possible. Throughout the 2000s significant advancements were made in computer vision and natural language processing by training machine learning models on Big Data.</pre></div></td></tr></tbody></table></div></details></td></tr><tr><td>5</td><td><details class=\"dni-treeview\"><summary><span class=\"dni-code-hint\"><code>Submission#7+KB</code></span></summary><div><table><thead><tr></tr></thead><tbody><tr><td>kb</td><td><div class=\"dni-plaintext\"><pre>Growth in AI driven by more data and more powerful hardware</pre></div></td></tr><tr><td>content</td><td><div class=\"dni-plaintext\"><pre>In the past decade compute power and the size of data sets have continued to grow and machine learning has become capable of solving even more problems. As a result today machine learning touches almost every part of our Lives sometimes we&#39;re well aware of it like when we interact with chat TPT in the browser or see a self-driving car go by but most of the time it&#39;s seamlessly woven into familiar experiences of our everyday life such as when we&#39;re approved for a new loan or get a catalog at home.</pre></div></td></tr></tbody></table></div></details></td></tr><tr><td>6</td><td><details class=\"dni-treeview\"><summary><span class=\"dni-code-hint\"><code>Submission#7+KB</code></span></summary><div><table><thead><tr></tr></thead><tbody><tr><td>kb</td><td><div class=\"dni-plaintext\"><pre>Increased awareness of ethical and responsible AI</pre></div></td></tr><tr><td>content</td><td><div class=\"dni-plaintext\"><pre>This era has also been marked by an increased awareness of potential ethical issues in machine learning and by significant research in the field of responsible AI. We want the benefits of AI but we also want AI that is responsible and doesn&#39;t amplify human bias. In the next video, we will introduce techniques for building using and maintaining machine learning models.</pre></div></td></tr></tbody></table></div></details></td></tr><tr><td>7</td><td><details class=\"dni-treeview\"><summary><span class=\"dni-code-hint\"><code>Submission#7+KB</code></span></summary><div><table><thead><tr></tr></thead><tbody><tr><td>kb</td><td><div class=\"dni-plaintext\"><pre>Introducing ML for Beginners</pre></div></td></tr><tr><td>content</td><td><div class=\"dni-plaintext\"><pre>hello and welcome to this course on\n",
       "\n",
       "classical machine learning for beginners\n",
       "\n",
       "whether you&#39;re completely new to the\n",
       "topic or an experienced ml practitioner\n",
       "\n",
       "looking to brush up on an area we&#39;re\n",
       "\n",
       "happy to have you join us this course is\n",
       "\n",
       "based on the free open source 26 lesson\n",
       "\n",
       "ml for beginners curriculum from\n",
       "\n",
       "Microsoft which can be found at AKA dot\n",
       "\n",
       "Ms slash ml-beginners machine learning\n",
       "\n",
       "is one of the most popular Technologies\n",
       "\n",
       "these days I&#39;m sure you&#39;ve heard this\n",
       "\n",
       "term if you have any sort of familiarity\n",
       "\n",
       "with technology no matter what domain\n",
       "\n",
       "you work in however the mechanics of\n",
       "\n",
       "machine learning are a mystery to most\n",
       "\n",
       "people and the subject can sometimes\n",
       "\n",
       "feel overwhelming in this course you&#39;ll\n",
       "\n",
       "start right from the beginning and\n",
       "\n",
       "you&#39;ll learn about it step by step to\n",
       "\n",
       "practical Hands-On coding examples</pre></div></td></tr></tbody></table></div></details></td></tr><tr><td>8</td><td><details class=\"dni-treeview\"><summary><span class=\"dni-code-hint\"><code>Submission#7+KB</code></span></summary><div><table><thead><tr></tr></thead><tbody><tr><td>kb</td><td><div class=\"dni-plaintext\"><pre>The difference between AI and ML</pre></div></td></tr><tr><td>content</td><td><div class=\"dni-plaintext\"><pre>start by talking about the difference\n",
       "\n",
       "between artificial intelligence and\n",
       "\n",
       "machine learning AI is a science of\n",
       "\n",
       "getting machines to accomplish tasks\n",
       "\n",
       "that typically require human level\n",
       "\n",
       "intelligence many different techniques\n",
       "\n",
       "have been proposed for AI but the most\n",
       "\n",
       "successful and popular approach these\n",
       "\n",
       "days is machine learning\n",
       "\n",
       "unlike other AI techniques ml uses\n",
       "\n",
       "specialized algorithms to make decisions\n",
       "\n",
       "by learning from data so machine\n",
       "\n",
       "learning is really a subset of\n",
       "\n",
       "artificial intelligence\n",
       "\n",
       "you&#39;ve also probably heard of deep\n",
       "\n",
       "learning which is a subset of machine\n",
       "\n",
       "learning that relies on neural networks\n",
       "\n",
       "to learn from data in this course we&#39;re</pre></div></td></tr></tbody></table></div></details></td></tr><tr><td>9</td><td><details class=\"dni-treeview\"><summary><span class=\"dni-code-hint\"><code>Submission#7+KB</code></span></summary><div><table><thead><tr></tr></thead><tbody><tr><td>kb</td><td><div class=\"dni-plaintext\"><pre>What you&#39;ll learn in this course</pre></div></td></tr><tr><td>content</td><td><div class=\"dni-plaintext\"><pre>going to cover what we call classical\n",
       "\n",
       "machine learning you&#39;ll learn some Core\n",
       "\n",
       "Concepts of ml a bit of History\n",
       "\n",
       "statistical techniques like regression\n",
       "\n",
       "classification clustering and more\n",
       "\n",
       "the concepts you&#39;ll learn here will\n",
       "\n",
       "serve you well as you progress to more\n",
       "\n",
       "Advanced Techniques</pre></div></td></tr></tbody></table></div></details></td></tr><tr><td>10</td><td><details class=\"dni-treeview\"><summary><span class=\"dni-code-hint\"><code>Submission#7+KB</code></span></summary><div><table><thead><tr></tr></thead><tbody><tr><td>kb</td><td><div class=\"dni-plaintext\"><pre>What you won&#39;t learn in this course</pre></div></td></tr><tr><td>content</td><td><div class=\"dni-plaintext\"><pre>keep in mind that this course won&#39;t\n",
       "\n",
       "cover data science deep learning neural\n",
       "\n",
       "networks and AI techniques other than ml\n",
       "\n",
       "Microsoft offers two additional courses\n",
       "\n",
       "for you to learn more about these areas\n",
       "\n",
       "data science for beginners available at\n",
       "\n",
       "AKA dot Ms slash data science beginners\n",
       "\n",
       "and AI for beginners available at aka.ms\n",
       "\n",
       "Ai and beginners machine learning is a</pre></div></td></tr></tbody></table></div></details></td></tr><tr><td>11</td><td><details class=\"dni-treeview\"><summary><span class=\"dni-code-hint\"><code>Submission#7+KB</code></span></summary><div><table><thead><tr></tr></thead><tbody><tr><td>kb</td><td><div class=\"dni-plaintext\"><pre>Why study Machine Learning</pre></div></td></tr><tr><td>content</td><td><div class=\"dni-plaintext\"><pre>Hot Topic because it&#39;s solving complex\n",
       "\n",
       "real-world problems in so many areas\n",
       "\n",
       "Finance earth science space exploration\n",
       "\n",
       "cognitive science and many more Fields\n",
       "\n",
       "have adopted machine learning to solve\n",
       "\n",
       "problems specific to their domains for\n",
       "\n",
       "example you can use machine learning to\n",
       "\n",
       "predict the likelihood of disease from a\n",
       "\n",
       "patient&#39;s medical history\n",
       "to anticipate weather events to\n",
       "\n",
       "understand the sentiment of a text and\n",
       "to detect fake news and stop the spread\n",
       "\n",
       "of propaganda applications of machine\n",
       "\n",
       "learning are almost everywhere and are\n",
       "\n",
       "as ubiquitous as the data that is\n",
       "\n",
       "Flowing from our devices and systems\n",
       "\n",
       "because of how useful it is\n",
       "\n",
       "understanding the basics of machine\n",
       "\n",
       "learning is going to help you no matter\n",
       "\n",
       "what domain you&#39;re coming from in the\n",
       "\n",
       "next video in the series I&#39;ll give an\n",
       "\n",
       "overview of the history of ml I&#39;ll see\n",
       "\n",
       "you there</pre></div></td></tr></tbody></table></div></details></td></tr><tr><td>12</td><td><details class=\"dni-treeview\"><summary><span class=\"dni-code-hint\"><code>Submission#7+KB</code></span></summary><div><table><thead><tr></tr></thead><tbody><tr><td>kb</td><td><div class=\"dni-plaintext\"><pre>Decide if AI is the right approach</pre></div></td></tr><tr><td>content</td><td><div class=\"dni-plaintext\"><pre>traditional software is well suited to solve problems where the solution can be described as a formal set of rules in contrast AI shines in solving problems where the solution can be extracted from data many of the problems we encountered in our daily life can be efficiently solved with traditional programming if an engineer can break up the solution of a problem and Define it using precise rules then traditional programming is a great tool to use but many of the problems we encounter in our day-to-day aren&#39;t quite as easy to Define as a set of rules thankfully for many of those problems we have access to plenty of real life data containing useful information which means that AI can help us find a solution one good example is translating from one language to another writing a set of rules that fully encodes all the parallels between two languages is not easy but there are many examples of translation online so AI has been able to do a much better job of translation than previous attempts so our first step when we&#39;re starting a new project should be to analyze the problem and determine which technique is best to solve it if you&#39;re able to obtain plenty of data that contains useful information about your solution then AI is a promising approach once you decided that</pre></div></td></tr></tbody></table></div></details></td></tr><tr><td>13</td><td><details class=\"dni-treeview\"><summary><span class=\"dni-code-hint\"><code>Submission#7+KB</code></span></summary><div><table><thead><tr></tr></thead><tbody><tr><td>kb</td><td><div class=\"dni-plaintext\"><pre>Collect and prepare data</pre></div></td></tr><tr><td>content</td><td><div class=\"dni-plaintext\"><pre>AI is the right method for you you need to collect and prepare your data for example you may need to normalize it or convert it to a different form or remove rows that are missing certain Fields once your data is clean you need to decide about which aspects of your data or features you&#39;re going to use as input to your prediction and which feature you want to predict for example if you have medical data you may decide to use features that describe the patient&#39;s medical history as input and a chance of a particular disease as the output feature you want to predict and finally you need to split your data into training and test sets a usual split is 80 for your training data and 20 for test</pre></div></td></tr></tbody></table></div></details></td></tr><tr><td>14</td><td><details class=\"dni-treeview\"><summary><span class=\"dni-code-hint\"><code>Submission#7+KB</code></span></summary><div><table><thead><tr></tr></thead><tbody><tr><td>kb</td><td><div class=\"dni-plaintext\"><pre>Train your model</pre></div></td></tr><tr><td>content</td><td><div class=\"dni-plaintext\"><pre>next you need to choose a machine learning algorithm which you&#39;ll learn a lot about in the coming videos if you&#39;re undecided between a few good algorithms you may want to try them all and see which one performs best then you need to train your model using the training set you collected earlier and the algorithm you chose training a model may take a while especially if the model is large</pre></div></td></tr></tbody></table></div></details></td></tr><tr><td>15</td><td><details class=\"dni-treeview\"><summary><span class=\"dni-code-hint\"><code>Submission#7+KB</code></span></summary><div><table><thead><tr></tr></thead><tbody><tr><td>kb</td><td><div class=\"dni-plaintext\"><pre>Evaluate your model</pre></div></td></tr><tr><td>content</td><td><div class=\"dni-plaintext\"><pre>once the model is trained you can test it using the test data set that you split earlier it&#39;s important that you test the algorithm with data that it hasn&#39;t seen during training to ensure that it generalizes well to new scenarios</pre></div></td></tr></tbody></table></div></details></td></tr><tr><td>16</td><td><details class=\"dni-treeview\"><summary><span class=\"dni-code-hint\"><code>Submission#7+KB</code></span></summary><div><table><thead><tr></tr></thead><tbody><tr><td>kb</td><td><div class=\"dni-plaintext\"><pre>Tune the hyperparameters</pre></div></td></tr><tr><td>content</td><td><div class=\"dni-plaintext\"><pre>some algorithms contain hyperparameters which are settings that control key aspects of their inner workings choosing good hyperparameters is important because they can make a big difference in your results if you want to be systematic about your hyperparameter search you can write code that tries lots of different combinations and helps you discover the best values for your data once you get good test results it&#39;s time to see how well your model performs within the context of its intended use for example this could involve collecting live data from a sensor and using it to make predictions or deploying a model to a few users of your application if it all looks good then you&#39;re ready to release it to production and enjoy its benefits</pre></div></td></tr></tbody></table></div></details></td></tr><tr><td>17</td><td><details class=\"dni-treeview\"><summary><span class=\"dni-code-hint\"><code>Submission#7+KB</code></span></summary><div><table><thead><tr></tr></thead><tbody><tr><td>kb</td><td><div class=\"dni-plaintext\"><pre># History of machine learning</pre></div></td></tr><tr><td>content</td><td><div class=\"dni-plaintext\"><pre>In this lesson, we will walk through the major milestones in the history of machine learning and artificial intelligence. Notable discoveries include Bayes Theorem, Least Square Theory, Markov Chains, Perceptron, Nearest Neighbor, Backpropagation, and Recurrent Neural Networks. The history of AI and machine learning dates back to the 18th century with the development of algorithms and computational advances. In the 1950s, Alan Turing created the Turing Test and the Dartmouth Summer Research Project coined the term &#39;artificial intelligence.&#39; From the 1950s to the mid-1970s, AI research flourished and machines like Shakey the robot and Eliza, a chatbot, were built. However, in the mid-1970s, the complexity of making intelligent machines became apparent and funding dried up, leading to an &#39;AI Winter.&#39; Expert systems and the democratization of computing emerged in the 1980s. In the 1990s to 2011, ML and AI saw a resurgence with the availability of data and increased compute power. Today, machine learning and AI have become integral parts of our lives, but also raise ethical and regulatory concerns.</pre></div></td></tr></tbody></table></div></details></td></tr><tr><td>18</td><td><details class=\"dni-treeview\"><summary><span class=\"dni-code-hint\"><code>Submission#7+KB</code></span></summary><div><table><thead><tr></tr></thead><tbody><tr><td>kb</td><td><div class=\"dni-plaintext\"><pre># Techniques of Machine Learning\n",
       "\n",
       "The process of building, using, and maintaining machine learning models and the data they use is a very different process from many other development workflows. In this lesson, we will demystify the process, and outline the main techniques you need to know. You will:\n",
       "\n",
       "- Understand the processes underpinning machine learning at a high level.\n",
       "- Explore base concepts such as &#39;models&#39;, &#39;predictions&#39;, and &#39;training data&#39;.</pre></div></td></tr><tr><td>content</td><td><div class=\"dni-plaintext\"><pre>On a high level, the craft of creating machine learning (ML) processes is comprised of a number of steps:  \n",
       "1. Decide on the question\n",
       "2. Collect and prepare data\n",
       "3. Choose a training method\n",
       "4. Train the model\n",
       "5. Evaluate the model\n",
       "6. Parameter tuning\n",
       "7. Predict\n",
       "\n",
       "Computers are particularly skilled at discovering hidden patterns in data. This utility is very helpful for researchers who have questions about a given domain that cannot be easily answered by creating a conditionally-based rules engine.\n",
       "\n",
       "Before starting to build your model, there are several tasks you need to complete. To test your question and form a hypothesis based on a model&#39;s predictions, you need to identify and configure several elements.\n",
       "\n",
       "To be able to answer your question with any kind of certainty, you need a good amount of data of the right type. There are two things you need to do at this point:\n",
       "- Collect data\n",
       "- Prepare data\n",
       "\n",
       "A feature is a measurable property of your data. Your feature variable, usually represented as `X` in code, represent the input variable which will be used to train model.\n",
       "\n",
       "A target is a thing you are trying to predict. Target usually represented as `y` in code, represents the answer to the question you are trying to ask of your data.\n",
       "\n",
       "Before training, you need to split your dataset into two or more parts of unequal size that still represent the data well:\n",
       "- Training\n",
       "- Testing\n",
       "- Validating\n",
       "\n",
       "Using your training data, your goal is to build a model, or a statistical representation of your data, using various algorithms to train it. Depending on your question and the nature of your data, you will choose a method to train it.\n",
       "\n",
       "Once the training process is complete, you will be able to evaluate the model&#39;s quality by using test data to gauge its performance. This data is a subset of the original data that the model has not previously analyzed.\n",
       "\n",
       "Once your initial training is complete, observe the quality of the model and consider improving it by tweaking its &#39;hyperparameters&#39;.\n",
       "\n",
       "This is the moment where you can use completely new data to test your model&#39;s accuracy. In an &#39;applied&#39; ML setting, where you are building web assets to use the model in production, this process might involve gathering user input to set a variable and send it to the model for inference, or evaluation.</pre></div></td></tr></tbody></table></div></details></td></tr><tr><td>19</td><td><details class=\"dni-treeview\"><summary><span class=\"dni-code-hint\"><code>Submission#7+KB</code></span></summary><div><table><thead><tr></tr></thead><tbody><tr><td>kb</td><td><div class=\"dni-plaintext\"><pre>Introduction to machine learning</pre></div></td></tr><tr><td>content</td><td><div class=\"dni-plaintext\"><pre>This course provides an introduction to classical machine learning for beginners. The course covers core concepts of machine learning, the history of ML, ML and fairness, regression ML techniques, classification ML techniques, clustering ML techniques, natural language processing ML techniques, time series forecasting ML techniques, reinforcement learning, and real-world applications for ML. The course does not cover deep learning, neural networks, or AI. Machine learning automates the process of pattern-discovery by finding meaningful insights from data and has applications in various fields such as business, health, and finance. Understanding the basics of machine learning is becoming essential in today&#39;s world.</pre></div></td></tr></tbody></table></div></details></td></tr></tbody></table><style>\r\n",
       ".dni-code-hint {\r\n",
       "    font-style: italic;\r\n",
       "    overflow: hidden;\r\n",
       "    white-space: nowrap;\r\n",
       "}\r\n",
       ".dni-treeview {\r\n",
       "    white-space: nowrap;\r\n",
       "}\r\n",
       ".dni-treeview td {\r\n",
       "    vertical-align: top;\r\n",
       "    text-align: start;\r\n",
       "}\r\n",
       "details.dni-treeview {\r\n",
       "    padding-left: 1em;\r\n",
       "}\r\n",
       "table td {\r\n",
       "    text-align: start;\r\n",
       "}\r\n",
       "table tr { \r\n",
       "    vertical-align: top; \r\n",
       "    margin: 0em 0px;\r\n",
       "}\r\n",
       "table tr td pre \r\n",
       "{ \r\n",
       "    vertical-align: top !important; \r\n",
       "    margin: 0em 0px !important;\r\n",
       "} \r\n",
       "table th {\r\n",
       "    text-align: start;\r\n",
       "}\r\n",
       "</style>"
      ]
     },
     "metadata": {},
     "output_type": "display_data"
    }
   ],
   "source": [
    "kbList"
   ]
  },
  {
   "cell_type": "code",
   "execution_count": 14,
   "metadata": {
    "dotnet_interactive": {
     "language": "csharp"
    },
    "polyglot_notebook": {
     "kernelName": "csharp"
    },
    "vscode": {
     "languageId": "polyglot-notebook"
    }
   },
   "outputs": [],
   "source": [
    "#pragma warning disable SKEXP0003\n",
    "#pragma warning disable SKEXP0011\n",
    "#pragma warning disable SKEXP0026\n",
    "\n",
    "\n",
    "var textEmbedding = new AzureOpenAITextEmbeddingGenerationService(\"Your Azure OpenAI Service Embedding Models Deployment Name\" , \"Your Azure OpenAI Service Endpoint\", \"Your Azure OpenAI Service API Key\");\n",
    "\n",
    "var qdrantMemoryBuilder = new MemoryBuilder();\n",
    "qdrantMemoryBuilder.WithTextEmbeddingGeneration(textEmbedding);\n",
    "qdrantMemoryBuilder.WithQdrantMemoryStore(\"http://localhost:6333\", 1536);\n",
    "\n",
    "var qdrantBuilder = qdrantMemoryBuilder.Build();"
   ]
  },
  {
   "cell_type": "code",
   "execution_count": 15,
   "metadata": {
    "dotnet_interactive": {
     "language": "csharp"
    },
    "polyglot_notebook": {
     "kernelName": "csharp"
    },
    "vscode": {
     "languageId": "polyglot-notebook"
    }
   },
   "outputs": [],
   "source": [
    "string MemoryCollectionName = \"kb_collection\";\n",
    "int index = 1;\n",
    "\n",
    "\n",
    "foreach(var item in kbList)\n",
    "{\n",
    "    await qdrantBuilder.SaveInformationAsync(MemoryCollectionName, id: \"index\"+(index++).ToString(), text: item.kb + \" -  \" + item.content);\n",
    "}"
   ]
  },
  {
   "cell_type": "code",
   "execution_count": 16,
   "metadata": {
    "dotnet_interactive": {
     "language": "csharp"
    },
    "polyglot_notebook": {
     "kernelName": "csharp"
    },
    "vscode": {
     "languageId": "polyglot-notebook"
    }
   },
   "outputs": [],
   "source": [
    "var searchResults =  qdrantBuilder.SearchAsync(MemoryCollectionName, \"can you tell me what is different ML and AI\", limit: 1, minRelevanceScore: 0.8);"
   ]
  },
  {
   "cell_type": "code",
   "execution_count": 17,
   "metadata": {
    "dotnet_interactive": {
     "language": "csharp"
    },
    "polyglot_notebook": {
     "kernelName": "csharp"
    },
    "vscode": {
     "languageId": "polyglot-notebook"
    }
   },
   "outputs": [
    {
     "name": "stdout",
     "output_type": "stream",
     "text": [
      "discussing the difference between artificial intelligence (AI) and machine learning (ML). AI is a field that aims to make machines perform tasks that usually require human-level intelligence. It explores various techniques, but machine learning is currently the most successful approach. ML uses specific algorithms to make decisions by learning from data. It is a subset of AI. Deep learning, on the other hand, is a subset of machine learning that relies on neural networks to learn from data. This course focuses on understanding the distinctions between AI, ML, and deep learning.\n"
     ]
    }
   ],
   "source": [
    "await foreach (var item in searchResults)\n",
    "{\n",
    "    var answer = await kernel.InvokeAsync(answerPlugin[\"Summary\"],new(){[\"input\"] = item.Metadata.Text});\n",
    "    Console.WriteLine(answer.ToString());\n",
    "}"
   ]
  },
  {
   "cell_type": "code",
   "execution_count": 18,
   "metadata": {
    "dotnet_interactive": {
     "language": "csharp"
    },
    "polyglot_notebook": {
     "kernelName": "csharp"
    },
    "vscode": {
     "languageId": "polyglot-notebook"
    }
   },
   "outputs": [],
   "source": [
    "var searchResults =  qdrantBuilder.SearchAsync(MemoryCollectionName, \"do you know 1956: Dartmouth Summer Research Project\", limit: 1, minRelevanceScore: 0.8);"
   ]
  },
  {
   "cell_type": "code",
   "execution_count": 19,
   "metadata": {
    "dotnet_interactive": {
     "language": "csharp"
    },
    "polyglot_notebook": {
     "kernelName": "csharp"
    },
    "vscode": {
     "languageId": "polyglot-notebook"
    }
   },
   "outputs": [
    {
     "name": "stdout",
     "output_type": "stream",
     "text": [
      "In 1956, a group of scientists met at Dartmouth College for the summer research project on artificial intelligence. This event marked the birth of AI as a field of research. The term \"artificial intelligence\" was coined during this conference, and it has since become a major area of study and development.\n"
     ]
    }
   ],
   "source": [
    "await foreach (var item in searchResults)\n",
    "{\n",
    "    var answer = await kernel.InvokeAsync(answerPlugin[\"Summary\"],new(){[\"input\"] = item.Metadata.Text});\n",
    "    Console.WriteLine(answer.ToString());\n",
    "}"
   ]
  }
 ],
 "metadata": {
  "language_info": {
   "name": "python"
  }
 },
 "nbformat": 4,
 "nbformat_minor": 2
}
